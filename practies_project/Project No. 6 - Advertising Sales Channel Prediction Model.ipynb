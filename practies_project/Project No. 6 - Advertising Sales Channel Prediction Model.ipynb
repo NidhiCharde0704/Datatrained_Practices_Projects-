{
 "cells": [
  {
   "cell_type": "markdown",
   "metadata": {},
   "source": [
    "# Data Description - When company enters a market, the distribution strategy and channel it uses are keys to its success in the market, as well as market know-how ans customer knowledge and understading. Beacuse an effective distribution strategy under efficient supply-chain management open doors for attaining competative advantage and strong brand quity in the market, it is a component of the marketing mix that cannot be ignored. The distribution strategy and channel design have to be right the first place. The case study of sales channel includes the detaild study of TV,radio and neswpapaer channel. The predict the total sales generated from the all sales channel."
   ]
  },
  {
   "cell_type": "code",
   "execution_count": 12,
   "metadata": {},
   "outputs": [],
   "source": [
    "#importing library\n",
    "import pandas as pd\n",
    "import numpy as np\n",
    "import warnings\n",
    "warnings.filterwarnings('ignore')"
   ]
  },
  {
   "cell_type": "code",
   "execution_count": 13,
   "metadata": {},
   "outputs": [],
   "source": [
    "#Loading the data sets\n",
    "\n",
    "df = pd.read_csv(\"Advertising.csv\")"
   ]
  },
  {
   "cell_type": "code",
   "execution_count": 14,
   "metadata": {},
   "outputs": [
    {
     "data": {
      "text/html": [
       "<div>\n",
       "<style scoped>\n",
       "    .dataframe tbody tr th:only-of-type {\n",
       "        vertical-align: middle;\n",
       "    }\n",
       "\n",
       "    .dataframe tbody tr th {\n",
       "        vertical-align: top;\n",
       "    }\n",
       "\n",
       "    .dataframe thead th {\n",
       "        text-align: right;\n",
       "    }\n",
       "</style>\n",
       "<table border=\"1\" class=\"dataframe\">\n",
       "  <thead>\n",
       "    <tr style=\"text-align: right;\">\n",
       "      <th></th>\n",
       "      <th>Unnamed: 0</th>\n",
       "      <th>TV</th>\n",
       "      <th>radio</th>\n",
       "      <th>newspaper</th>\n",
       "      <th>sales</th>\n",
       "    </tr>\n",
       "  </thead>\n",
       "  <tbody>\n",
       "    <tr>\n",
       "      <th>0</th>\n",
       "      <td>1</td>\n",
       "      <td>230.1</td>\n",
       "      <td>37.8</td>\n",
       "      <td>69.2</td>\n",
       "      <td>22.1</td>\n",
       "    </tr>\n",
       "    <tr>\n",
       "      <th>1</th>\n",
       "      <td>2</td>\n",
       "      <td>44.5</td>\n",
       "      <td>39.3</td>\n",
       "      <td>45.1</td>\n",
       "      <td>10.4</td>\n",
       "    </tr>\n",
       "    <tr>\n",
       "      <th>2</th>\n",
       "      <td>3</td>\n",
       "      <td>17.2</td>\n",
       "      <td>45.9</td>\n",
       "      <td>69.3</td>\n",
       "      <td>9.3</td>\n",
       "    </tr>\n",
       "    <tr>\n",
       "      <th>3</th>\n",
       "      <td>4</td>\n",
       "      <td>151.5</td>\n",
       "      <td>41.3</td>\n",
       "      <td>58.5</td>\n",
       "      <td>18.5</td>\n",
       "    </tr>\n",
       "    <tr>\n",
       "      <th>4</th>\n",
       "      <td>5</td>\n",
       "      <td>180.8</td>\n",
       "      <td>10.8</td>\n",
       "      <td>58.4</td>\n",
       "      <td>12.9</td>\n",
       "    </tr>\n",
       "    <tr>\n",
       "      <th>...</th>\n",
       "      <td>...</td>\n",
       "      <td>...</td>\n",
       "      <td>...</td>\n",
       "      <td>...</td>\n",
       "      <td>...</td>\n",
       "    </tr>\n",
       "    <tr>\n",
       "      <th>195</th>\n",
       "      <td>196</td>\n",
       "      <td>38.2</td>\n",
       "      <td>3.7</td>\n",
       "      <td>13.8</td>\n",
       "      <td>7.6</td>\n",
       "    </tr>\n",
       "    <tr>\n",
       "      <th>196</th>\n",
       "      <td>197</td>\n",
       "      <td>94.2</td>\n",
       "      <td>4.9</td>\n",
       "      <td>8.1</td>\n",
       "      <td>9.7</td>\n",
       "    </tr>\n",
       "    <tr>\n",
       "      <th>197</th>\n",
       "      <td>198</td>\n",
       "      <td>177.0</td>\n",
       "      <td>9.3</td>\n",
       "      <td>6.4</td>\n",
       "      <td>12.8</td>\n",
       "    </tr>\n",
       "    <tr>\n",
       "      <th>198</th>\n",
       "      <td>199</td>\n",
       "      <td>283.6</td>\n",
       "      <td>42.0</td>\n",
       "      <td>66.2</td>\n",
       "      <td>25.5</td>\n",
       "    </tr>\n",
       "    <tr>\n",
       "      <th>199</th>\n",
       "      <td>200</td>\n",
       "      <td>232.1</td>\n",
       "      <td>8.6</td>\n",
       "      <td>8.7</td>\n",
       "      <td>13.4</td>\n",
       "    </tr>\n",
       "  </tbody>\n",
       "</table>\n",
       "<p>200 rows × 5 columns</p>\n",
       "</div>"
      ],
      "text/plain": [
       "     Unnamed: 0     TV  radio  newspaper  sales\n",
       "0             1  230.1   37.8       69.2   22.1\n",
       "1             2   44.5   39.3       45.1   10.4\n",
       "2             3   17.2   45.9       69.3    9.3\n",
       "3             4  151.5   41.3       58.5   18.5\n",
       "4             5  180.8   10.8       58.4   12.9\n",
       "..          ...    ...    ...        ...    ...\n",
       "195         196   38.2    3.7       13.8    7.6\n",
       "196         197   94.2    4.9        8.1    9.7\n",
       "197         198  177.0    9.3        6.4   12.8\n",
       "198         199  283.6   42.0       66.2   25.5\n",
       "199         200  232.1    8.6        8.7   13.4\n",
       "\n",
       "[200 rows x 5 columns]"
      ]
     },
     "execution_count": 14,
     "metadata": {},
     "output_type": "execute_result"
    }
   ],
   "source": [
    "df"
   ]
  },
  {
   "cell_type": "code",
   "execution_count": 15,
   "metadata": {},
   "outputs": [
    {
     "data": {
      "text/html": [
       "<div>\n",
       "<style scoped>\n",
       "    .dataframe tbody tr th:only-of-type {\n",
       "        vertical-align: middle;\n",
       "    }\n",
       "\n",
       "    .dataframe tbody tr th {\n",
       "        vertical-align: top;\n",
       "    }\n",
       "\n",
       "    .dataframe thead th {\n",
       "        text-align: right;\n",
       "    }\n",
       "</style>\n",
       "<table border=\"1\" class=\"dataframe\">\n",
       "  <thead>\n",
       "    <tr style=\"text-align: right;\">\n",
       "      <th></th>\n",
       "      <th>Unnamed: 0</th>\n",
       "      <th>TV</th>\n",
       "      <th>radio</th>\n",
       "      <th>newspaper</th>\n",
       "      <th>sales</th>\n",
       "    </tr>\n",
       "  </thead>\n",
       "  <tbody>\n",
       "    <tr>\n",
       "      <th>0</th>\n",
       "      <td>1</td>\n",
       "      <td>230.1</td>\n",
       "      <td>37.8</td>\n",
       "      <td>69.2</td>\n",
       "      <td>22.1</td>\n",
       "    </tr>\n",
       "    <tr>\n",
       "      <th>1</th>\n",
       "      <td>2</td>\n",
       "      <td>44.5</td>\n",
       "      <td>39.3</td>\n",
       "      <td>45.1</td>\n",
       "      <td>10.4</td>\n",
       "    </tr>\n",
       "    <tr>\n",
       "      <th>2</th>\n",
       "      <td>3</td>\n",
       "      <td>17.2</td>\n",
       "      <td>45.9</td>\n",
       "      <td>69.3</td>\n",
       "      <td>9.3</td>\n",
       "    </tr>\n",
       "    <tr>\n",
       "      <th>3</th>\n",
       "      <td>4</td>\n",
       "      <td>151.5</td>\n",
       "      <td>41.3</td>\n",
       "      <td>58.5</td>\n",
       "      <td>18.5</td>\n",
       "    </tr>\n",
       "    <tr>\n",
       "      <th>4</th>\n",
       "      <td>5</td>\n",
       "      <td>180.8</td>\n",
       "      <td>10.8</td>\n",
       "      <td>58.4</td>\n",
       "      <td>12.9</td>\n",
       "    </tr>\n",
       "  </tbody>\n",
       "</table>\n",
       "</div>"
      ],
      "text/plain": [
       "   Unnamed: 0     TV  radio  newspaper  sales\n",
       "0           1  230.1   37.8       69.2   22.1\n",
       "1           2   44.5   39.3       45.1   10.4\n",
       "2           3   17.2   45.9       69.3    9.3\n",
       "3           4  151.5   41.3       58.5   18.5\n",
       "4           5  180.8   10.8       58.4   12.9"
      ]
     },
     "execution_count": 15,
     "metadata": {},
     "output_type": "execute_result"
    }
   ],
   "source": [
    "df.head()"
   ]
  },
  {
   "cell_type": "code",
   "execution_count": 16,
   "metadata": {},
   "outputs": [
    {
     "data": {
      "text/html": [
       "<div>\n",
       "<style scoped>\n",
       "    .dataframe tbody tr th:only-of-type {\n",
       "        vertical-align: middle;\n",
       "    }\n",
       "\n",
       "    .dataframe tbody tr th {\n",
       "        vertical-align: top;\n",
       "    }\n",
       "\n",
       "    .dataframe thead th {\n",
       "        text-align: right;\n",
       "    }\n",
       "</style>\n",
       "<table border=\"1\" class=\"dataframe\">\n",
       "  <thead>\n",
       "    <tr style=\"text-align: right;\">\n",
       "      <th></th>\n",
       "      <th>Unnamed: 0</th>\n",
       "      <th>TV</th>\n",
       "      <th>radio</th>\n",
       "      <th>newspaper</th>\n",
       "      <th>sales</th>\n",
       "    </tr>\n",
       "  </thead>\n",
       "  <tbody>\n",
       "    <tr>\n",
       "      <th>32</th>\n",
       "      <td>33</td>\n",
       "      <td>97.2</td>\n",
       "      <td>1.5</td>\n",
       "      <td>30.0</td>\n",
       "      <td>9.6</td>\n",
       "    </tr>\n",
       "    <tr>\n",
       "      <th>93</th>\n",
       "      <td>94</td>\n",
       "      <td>250.9</td>\n",
       "      <td>36.5</td>\n",
       "      <td>72.3</td>\n",
       "      <td>22.2</td>\n",
       "    </tr>\n",
       "    <tr>\n",
       "      <th>191</th>\n",
       "      <td>192</td>\n",
       "      <td>75.5</td>\n",
       "      <td>10.8</td>\n",
       "      <td>6.0</td>\n",
       "      <td>9.9</td>\n",
       "    </tr>\n",
       "    <tr>\n",
       "      <th>9</th>\n",
       "      <td>10</td>\n",
       "      <td>199.8</td>\n",
       "      <td>2.6</td>\n",
       "      <td>21.2</td>\n",
       "      <td>10.6</td>\n",
       "    </tr>\n",
       "    <tr>\n",
       "      <th>76</th>\n",
       "      <td>77</td>\n",
       "      <td>27.5</td>\n",
       "      <td>1.6</td>\n",
       "      <td>20.7</td>\n",
       "      <td>6.9</td>\n",
       "    </tr>\n",
       "  </tbody>\n",
       "</table>\n",
       "</div>"
      ],
      "text/plain": [
       "     Unnamed: 0     TV  radio  newspaper  sales\n",
       "32           33   97.2    1.5       30.0    9.6\n",
       "93           94  250.9   36.5       72.3   22.2\n",
       "191         192   75.5   10.8        6.0    9.9\n",
       "9            10  199.8    2.6       21.2   10.6\n",
       "76           77   27.5    1.6       20.7    6.9"
      ]
     },
     "execution_count": 16,
     "metadata": {},
     "output_type": "execute_result"
    }
   ],
   "source": [
    "df.sample(5)"
   ]
  },
  {
   "cell_type": "code",
   "execution_count": 17,
   "metadata": {},
   "outputs": [
    {
     "data": {
      "text/html": [
       "<div>\n",
       "<style scoped>\n",
       "    .dataframe tbody tr th:only-of-type {\n",
       "        vertical-align: middle;\n",
       "    }\n",
       "\n",
       "    .dataframe tbody tr th {\n",
       "        vertical-align: top;\n",
       "    }\n",
       "\n",
       "    .dataframe thead th {\n",
       "        text-align: right;\n",
       "    }\n",
       "</style>\n",
       "<table border=\"1\" class=\"dataframe\">\n",
       "  <thead>\n",
       "    <tr style=\"text-align: right;\">\n",
       "      <th></th>\n",
       "      <th>Unnamed: 0</th>\n",
       "      <th>TV</th>\n",
       "      <th>radio</th>\n",
       "      <th>newspaper</th>\n",
       "      <th>sales</th>\n",
       "    </tr>\n",
       "  </thead>\n",
       "  <tbody>\n",
       "    <tr>\n",
       "      <th>195</th>\n",
       "      <td>196</td>\n",
       "      <td>38.2</td>\n",
       "      <td>3.7</td>\n",
       "      <td>13.8</td>\n",
       "      <td>7.6</td>\n",
       "    </tr>\n",
       "    <tr>\n",
       "      <th>196</th>\n",
       "      <td>197</td>\n",
       "      <td>94.2</td>\n",
       "      <td>4.9</td>\n",
       "      <td>8.1</td>\n",
       "      <td>9.7</td>\n",
       "    </tr>\n",
       "    <tr>\n",
       "      <th>197</th>\n",
       "      <td>198</td>\n",
       "      <td>177.0</td>\n",
       "      <td>9.3</td>\n",
       "      <td>6.4</td>\n",
       "      <td>12.8</td>\n",
       "    </tr>\n",
       "    <tr>\n",
       "      <th>198</th>\n",
       "      <td>199</td>\n",
       "      <td>283.6</td>\n",
       "      <td>42.0</td>\n",
       "      <td>66.2</td>\n",
       "      <td>25.5</td>\n",
       "    </tr>\n",
       "    <tr>\n",
       "      <th>199</th>\n",
       "      <td>200</td>\n",
       "      <td>232.1</td>\n",
       "      <td>8.6</td>\n",
       "      <td>8.7</td>\n",
       "      <td>13.4</td>\n",
       "    </tr>\n",
       "  </tbody>\n",
       "</table>\n",
       "</div>"
      ],
      "text/plain": [
       "     Unnamed: 0     TV  radio  newspaper  sales\n",
       "195         196   38.2    3.7       13.8    7.6\n",
       "196         197   94.2    4.9        8.1    9.7\n",
       "197         198  177.0    9.3        6.4   12.8\n",
       "198         199  283.6   42.0       66.2   25.5\n",
       "199         200  232.1    8.6        8.7   13.4"
      ]
     },
     "execution_count": 17,
     "metadata": {},
     "output_type": "execute_result"
    }
   ],
   "source": [
    "df.tail()"
   ]
  },
  {
   "cell_type": "code",
   "execution_count": 18,
   "metadata": {},
   "outputs": [
    {
     "data": {
      "text/plain": [
       "Unnamed: 0      int64\n",
       "TV            float64\n",
       "radio         float64\n",
       "newspaper     float64\n",
       "sales         float64\n",
       "dtype: object"
      ]
     },
     "execution_count": 18,
     "metadata": {},
     "output_type": "execute_result"
    }
   ],
   "source": [
    "df.dtypes"
   ]
  },
  {
   "cell_type": "code",
   "execution_count": 19,
   "metadata": {},
   "outputs": [
    {
     "data": {
      "text/plain": [
       "Index(['Unnamed: 0', 'TV', 'radio', 'newspaper', 'sales'], dtype='object')"
      ]
     },
     "execution_count": 19,
     "metadata": {},
     "output_type": "execute_result"
    }
   ],
   "source": [
    "df.columns"
   ]
  },
  {
   "cell_type": "code",
   "execution_count": 20,
   "metadata": {},
   "outputs": [
    {
     "name": "stdout",
     "output_type": "stream",
     "text": [
      "<class 'pandas.core.frame.DataFrame'>\n",
      "RangeIndex: 200 entries, 0 to 199\n",
      "Data columns (total 5 columns):\n",
      " #   Column      Non-Null Count  Dtype  \n",
      "---  ------      --------------  -----  \n",
      " 0   Unnamed: 0  200 non-null    int64  \n",
      " 1   TV          200 non-null    float64\n",
      " 2   radio       200 non-null    float64\n",
      " 3   newspaper   200 non-null    float64\n",
      " 4   sales       200 non-null    float64\n",
      "dtypes: float64(4), int64(1)\n",
      "memory usage: 7.9 KB\n"
     ]
    }
   ],
   "source": [
    "df.info()"
   ]
  },
  {
   "cell_type": "code",
   "execution_count": 21,
   "metadata": {},
   "outputs": [
    {
     "data": {
      "text/plain": [
       "Unnamed: 0    0\n",
       "TV            0\n",
       "radio         0\n",
       "newspaper     0\n",
       "sales         0\n",
       "dtype: int64"
      ]
     },
     "execution_count": 21,
     "metadata": {},
     "output_type": "execute_result"
    }
   ],
   "source": [
    "df.isnull().sum()"
   ]
  },
  {
   "cell_type": "code",
   "execution_count": 11,
   "metadata": {},
   "outputs": [
    {
     "data": {
      "text/plain": [
       "0"
      ]
     },
     "execution_count": 11,
     "metadata": {},
     "output_type": "execute_result"
    }
   ],
   "source": [
    "df.duplicated().sum()"
   ]
  },
  {
   "cell_type": "code",
   "execution_count": 23,
   "metadata": {},
   "outputs": [],
   "source": [
    "import matplotlib.pyplot as plt\n",
    "import seaborn as sns"
   ]
  },
  {
   "cell_type": "code",
   "execution_count": 24,
   "metadata": {},
   "outputs": [],
   "source": [
    "descreat_features=[feature for feature in df.columns if len(df[feature].unique())<25]"
   ]
  },
  {
   "cell_type": "code",
   "execution_count": 25,
   "metadata": {},
   "outputs": [
    {
     "data": {
      "text/plain": [
       "[]"
      ]
     },
     "execution_count": 25,
     "metadata": {},
     "output_type": "execute_result"
    }
   ],
   "source": [
    "descreat_features"
   ]
  },
  {
   "cell_type": "raw",
   "metadata": {},
   "source": [
    "Biveriant Analysis"
   ]
  },
  {
   "cell_type": "code",
   "execution_count": 27,
   "metadata": {},
   "outputs": [
    {
     "data": {
      "image/png": "[encoded data removed]",
      "text/plain": [
       "<Figure size 432x288 with 1 Axes>"
      ]
     },
     "metadata": {
      "needs_background": "light"
     },
     "output_type": "display_data"
    },
    {
     "data": {
      "image/png": "[encoded data removed]",
      "text/plain": [
       "<Figure size 432x288 with 1 Axes>"
      ]
     },
     "metadata": {
      "needs_background": "light"
     },
     "output_type": "display_data"
    },
    {
     "data": {
      "image/png": "[encoded data removed]",
      "text/plain": [
       "<Figure size 432x288 with 1 Axes>"
      ]
     },
     "metadata": {
      "needs_background": "light"
     },
     "output_type": "display_data"
    },
    {
     "data": {
      "image/png": "[encoded data removed]",
      "text/plain": [
       "<Figure size 432x288 with 1 Axes>"
      ]
     },
     "metadata": {
      "needs_background": "light"
     },
     "output_type": "display_data"
    },
    {
     "data": {
      "image/png": "[encoded data removed]",
      "text/plain": [
       "<Figure size 432x288 with 1 Axes>"
      ]
     },
     "metadata": {
      "needs_background": "light"
     },
     "output_type": "display_data"
    }
   ],
   "source": [
    "for i in df.columns:\n",
    "    plt.figure()\n",
    "    sns.violinplot(df[i])\n",
    "    plt.tight_layout()\n",
    "    "
   ]
  },
  {
   "cell_type": "markdown",
   "metadata": {},
   "source": [
    "Violin chart show the density of the Data and from that we can say that TV having more density as compair to Newspaper and radio."
   ]
  },
  {
   "cell_type": "code",
   "execution_count": 28,
   "metadata": {},
   "outputs": [
    {
     "data": {
      "image/png": "[encoded data removed]",
      "text/plain": [
       "<Figure size 432x288 with 1 Axes>"
      ]
     },
     "metadata": {
      "needs_background": "light"
     },
     "output_type": "display_data"
    },
    {
     "data": {
      "image/png": "[encoded data removed]",
      "text/plain": [
       "<Figure size 432x288 with 1 Axes>"
      ]
     },
     "metadata": {
      "needs_background": "light"
     },
     "output_type": "display_data"
    },
    {
     "data": {
      "image/png": "[encoded data removed]",
      "text/plain": [
       "<Figure size 432x288 with 1 Axes>"
      ]
     },
     "metadata": {
      "needs_background": "light"
     },
     "output_type": "display_data"
    },
    {
     "data": {
      "image/png": "[encoded data removed]",
      "text/plain": [
       "<Figure size 432x288 with 1 Axes>"
      ]
     },
     "metadata": {
      "needs_background": "light"
     },
     "output_type": "display_data"
    },
    {
     "data": {
      "image/png": "[encoded data removed]",
      "text/plain": [
       "<Figure size 432x288 with 1 Axes>"
      ]
     },
     "metadata": {
      "needs_background": "light"
     },
     "output_type": "display_data"
    }
   ],
   "source": [
    "for i in df.columns:\n",
    "    plt.figure()\n",
    "    sns.distplot(df[i],kde=True)\n",
    "    plt.tight_layout()"
   ]
  },
  {
   "cell_type": "markdown",
   "metadata": {},
   "source": [
    "This shows data having skew"
   ]
  },
  {
   "cell_type": "raw",
   "metadata": {},
   "source": [
    "Univeriant Analysis"
   ]
  },
  {
   "cell_type": "code",
   "execution_count": 29,
   "metadata": {},
   "outputs": [
    {
     "data": {
      "text/plain": [
       "<seaborn.axisgrid.JointGrid at 0x237b3281670>"
      ]
     },
     "execution_count": 29,
     "metadata": {},
     "output_type": "execute_result"
    },
    {
     "data": {
      "image/png": "[encoded data removed]",
      "text/plain": [
       "<Figure size 432x432 with 3 Axes>"
      ]
     },
     "metadata": {
      "needs_background": "light"
     },
     "output_type": "display_data"
    }
   ],
   "source": [
    "sns.jointplot(x='sales',y='newspaper',data=df,kind='hex')"
   ]
  },
  {
   "cell_type": "code",
   "execution_count": 30,
   "metadata": {},
   "outputs": [
    {
     "data": {
      "image/png": "[encoded data removed]",
      "text/plain": [
       "<Figure size 432x432 with 3 Axes>"
      ]
     },
     "metadata": {},
     "output_type": "display_data"
    }
   ],
   "source": [
    "with sns.axes_style('white'):\n",
    "    sns.jointplot(x='sales',y='TV',data=df,kind='reg')"
   ]
  },
  {
   "cell_type": "code",
   "execution_count": 31,
   "metadata": {},
   "outputs": [
    {
     "data": {
      "text/plain": [
       "<seaborn.axisgrid.JointGrid at 0x237b3514d30>"
      ]
     },
     "execution_count": 31,
     "metadata": {},
     "output_type": "execute_result"
    },
    {
     "data": {
      "image/png": "[encoded data removed]",
      "text/plain": [
       "<Figure size 432x432 with 3 Axes>"
      ]
     },
     "metadata": {
      "needs_background": "light"
     },
     "output_type": "display_data"
    }
   ],
   "source": [
    "sns.jointplot(x='sales',y='TV',data=df,kind='hex')"
   ]
  },
  {
   "cell_type": "code",
   "execution_count": 32,
   "metadata": {},
   "outputs": [
    {
     "data": {
      "image/png": "[encoded data removed]",
      "text/plain": [
       "<Figure size 432x432 with 3 Axes>"
      ]
     },
     "metadata": {},
     "output_type": "display_data"
    }
   ],
   "source": [
    "with sns.axes_style('white'):\n",
    "    sns.jointplot(x='sales',y='radio',data=df,kind='reg')"
   ]
  },
  {
   "cell_type": "code",
   "execution_count": 33,
   "metadata": {},
   "outputs": [
    {
     "data": {
      "text/plain": [
       "<seaborn.axisgrid.JointGrid at 0x237b314e8b0>"
      ]
     },
     "execution_count": 33,
     "metadata": {},
     "output_type": "execute_result"
    },
    {
     "data": {
      "image/png": "[encoded data removed]",
      "text/plain": [
       "<Figure size 432x432 with 3 Axes>"
      ]
     },
     "metadata": {
      "needs_background": "light"
     },
     "output_type": "display_data"
    }
   ],
   "source": [
    "sns.jointplot(x='sales',y='radio',data=df,kind='hex')"
   ]
  },
  {
   "cell_type": "markdown",
   "metadata": {},
   "source": [
    "From above three chart we can say that as the radio,TV and newpaper marketing increases sales increases no any negative relation with sales.\n",
    "\n",
    "Also Tv Having High Sales"
   ]
  },
  {
   "cell_type": "code",
   "execution_count": 34,
   "metadata": {},
   "outputs": [
    {
     "data": {
      "text/plain": [
       "<AxesSubplot:xlabel='TV', ylabel='newspaper'>"
      ]
     },
     "execution_count": 34,
     "metadata": {},
     "output_type": "execute_result"
    },
    {
     "data": {
      "image/png": "[encoded data removed]",
      "text/plain": [
       "<Figure size 432x288 with 1 Axes>"
      ]
     },
     "metadata": {
      "needs_background": "light"
     },
     "output_type": "display_data"
    }
   ],
   "source": [
    "sns.scatterplot(y='newspaper',x='TV',data=df)"
   ]
  },
  {
   "cell_type": "code",
   "execution_count": 35,
   "metadata": {},
   "outputs": [
    {
     "data": {
      "text/plain": [
       "<AxesSubplot:xlabel='radio', ylabel='newspaper'>"
      ]
     },
     "execution_count": 35,
     "metadata": {},
     "output_type": "execute_result"
    },
    {
     "data": {
      "image/png": "[encoded data removed]",
      "text/plain": [
       "<Figure size 432x288 with 1 Axes>"
      ]
     },
     "metadata": {
      "needs_background": "light"
     },
     "output_type": "display_data"
    }
   ],
   "source": [
    "sns.scatterplot(y='newspaper',x='radio',data=df)"
   ]
  },
  {
   "cell_type": "code",
   "execution_count": 36,
   "metadata": {},
   "outputs": [
    {
     "data": {
      "text/plain": [
       "<AxesSubplot:xlabel='radio', ylabel='TV'>"
      ]
     },
     "execution_count": 36,
     "metadata": {},
     "output_type": "execute_result"
    },
    {
     "data": {
      "image/png": "[encoded data removed]",
      "text/plain": [
       "<Figure size 432x288 with 1 Axes>"
      ]
     },
     "metadata": {
      "needs_background": "light"
     },
     "output_type": "display_data"
    }
   ],
   "source": [
    "sns.scatterplot(y='TV',x='radio',data=df)"
   ]
  },
  {
   "cell_type": "code",
   "execution_count": 37,
   "metadata": {},
   "outputs": [
    {
     "data": {
      "image/png": "[encoded data removed]",
      "text/plain": [
       "<Figure size 432x288 with 1 Axes>"
      ]
     },
     "metadata": {
      "needs_background": "light"
     },
     "output_type": "display_data"
    },
    {
     "data": {
      "image/png": "[encoded data removed]",
      "text/plain": [
       "<Figure size 432x288 with 1 Axes>"
      ]
     },
     "metadata": {
      "needs_background": "light"
     },
     "output_type": "display_data"
    },
    {
     "data": {
      "image/png": "[encoded data removed]",
      "text/plain": [
       "<Figure size 432x288 with 1 Axes>"
      ]
     },
     "metadata": {
      "needs_background": "light"
     },
     "output_type": "display_data"
    },
    {
     "data": {
      "image/png": "[encoded data removed]",
      "text/plain": [
       "<Figure size 432x288 with 1 Axes>"
      ]
     },
     "metadata": {
      "needs_background": "light"
     },
     "output_type": "display_data"
    },
    {
     "data": {
      "image/png": "[encoded data removed]",
      "text/plain": [
       "<Figure size 432x288 with 1 Axes>"
      ]
     },
     "metadata": {
      "needs_background": "light"
     },
     "output_type": "display_data"
    }
   ],
   "source": [
    "for i in df.columns:\n",
    "    plt.figure()\n",
    "    sns.boxplot(df[i])\n",
    "    plt.tight_layout()"
   ]
  },
  {
   "cell_type": "markdown",
   "metadata": {},
   "source": [
    "# Stastical Summery"
   ]
  },
  {
   "cell_type": "code",
   "execution_count": 39,
   "metadata": {},
   "outputs": [
    {
     "data": {
      "text/html": [
       "<div>\n",
       "<style scoped>\n",
       "    .dataframe tbody tr th:only-of-type {\n",
       "        vertical-align: middle;\n",
       "    }\n",
       "\n",
       "    .dataframe tbody tr th {\n",
       "        vertical-align: top;\n",
       "    }\n",
       "\n",
       "    .dataframe thead th {\n",
       "        text-align: right;\n",
       "    }\n",
       "</style>\n",
       "<table border=\"1\" class=\"dataframe\">\n",
       "  <thead>\n",
       "    <tr style=\"text-align: right;\">\n",
       "      <th></th>\n",
       "      <th>Unnamed: 0</th>\n",
       "      <th>TV</th>\n",
       "      <th>radio</th>\n",
       "      <th>newspaper</th>\n",
       "      <th>sales</th>\n",
       "    </tr>\n",
       "  </thead>\n",
       "  <tbody>\n",
       "    <tr>\n",
       "      <th>count</th>\n",
       "      <td>200.000000</td>\n",
       "      <td>200.000000</td>\n",
       "      <td>200.000000</td>\n",
       "      <td>200.000000</td>\n",
       "      <td>200.000000</td>\n",
       "    </tr>\n",
       "    <tr>\n",
       "      <th>mean</th>\n",
       "      <td>100.500000</td>\n",
       "      <td>147.042500</td>\n",
       "      <td>23.264000</td>\n",
       "      <td>30.554000</td>\n",
       "      <td>14.022500</td>\n",
       "    </tr>\n",
       "    <tr>\n",
       "      <th>std</th>\n",
       "      <td>57.879185</td>\n",
       "      <td>85.854236</td>\n",
       "      <td>14.846809</td>\n",
       "      <td>21.778621</td>\n",
       "      <td>5.217457</td>\n",
       "    </tr>\n",
       "    <tr>\n",
       "      <th>min</th>\n",
       "      <td>1.000000</td>\n",
       "      <td>0.700000</td>\n",
       "      <td>0.000000</td>\n",
       "      <td>0.300000</td>\n",
       "      <td>1.600000</td>\n",
       "    </tr>\n",
       "    <tr>\n",
       "      <th>25%</th>\n",
       "      <td>50.750000</td>\n",
       "      <td>74.375000</td>\n",
       "      <td>9.975000</td>\n",
       "      <td>12.750000</td>\n",
       "      <td>10.375000</td>\n",
       "    </tr>\n",
       "    <tr>\n",
       "      <th>50%</th>\n",
       "      <td>100.500000</td>\n",
       "      <td>149.750000</td>\n",
       "      <td>22.900000</td>\n",
       "      <td>25.750000</td>\n",
       "      <td>12.900000</td>\n",
       "    </tr>\n",
       "    <tr>\n",
       "      <th>75%</th>\n",
       "      <td>150.250000</td>\n",
       "      <td>218.825000</td>\n",
       "      <td>36.525000</td>\n",
       "      <td>45.100000</td>\n",
       "      <td>17.400000</td>\n",
       "    </tr>\n",
       "    <tr>\n",
       "      <th>max</th>\n",
       "      <td>200.000000</td>\n",
       "      <td>296.400000</td>\n",
       "      <td>49.600000</td>\n",
       "      <td>114.000000</td>\n",
       "      <td>27.000000</td>\n",
       "    </tr>\n",
       "  </tbody>\n",
       "</table>\n",
       "</div>"
      ],
      "text/plain": [
       "       Unnamed: 0          TV       radio   newspaper       sales\n",
       "count  200.000000  200.000000  200.000000  200.000000  200.000000\n",
       "mean   100.500000  147.042500   23.264000   30.554000   14.022500\n",
       "std     57.879185   85.854236   14.846809   21.778621    5.217457\n",
       "min      1.000000    0.700000    0.000000    0.300000    1.600000\n",
       "25%     50.750000   74.375000    9.975000   12.750000   10.375000\n",
       "50%    100.500000  149.750000   22.900000   25.750000   12.900000\n",
       "75%    150.250000  218.825000   36.525000   45.100000   17.400000\n",
       "max    200.000000  296.400000   49.600000  114.000000   27.000000"
      ]
     },
     "execution_count": 39,
     "metadata": {},
     "output_type": "execute_result"
    }
   ],
   "source": [
    "df.describe()"
   ]
  },
  {
   "cell_type": "code",
   "execution_count": 40,
   "metadata": {},
   "outputs": [
    {
     "data": {
      "text/html": [
       "<div>\n",
       "<style scoped>\n",
       "    .dataframe tbody tr th:only-of-type {\n",
       "        vertical-align: middle;\n",
       "    }\n",
       "\n",
       "    .dataframe tbody tr th {\n",
       "        vertical-align: top;\n",
       "    }\n",
       "\n",
       "    .dataframe thead th {\n",
       "        text-align: right;\n",
       "    }\n",
       "</style>\n",
       "<table border=\"1\" class=\"dataframe\">\n",
       "  <thead>\n",
       "    <tr style=\"text-align: right;\">\n",
       "      <th></th>\n",
       "      <th>Unnamed: 0</th>\n",
       "      <th>TV</th>\n",
       "      <th>radio</th>\n",
       "      <th>newspaper</th>\n",
       "      <th>sales</th>\n",
       "    </tr>\n",
       "  </thead>\n",
       "  <tbody>\n",
       "    <tr>\n",
       "      <th>Unnamed: 0</th>\n",
       "      <td>1.000000</td>\n",
       "      <td>0.017715</td>\n",
       "      <td>-0.110680</td>\n",
       "      <td>-0.154944</td>\n",
       "      <td>-0.051616</td>\n",
       "    </tr>\n",
       "    <tr>\n",
       "      <th>TV</th>\n",
       "      <td>0.017715</td>\n",
       "      <td>1.000000</td>\n",
       "      <td>0.054809</td>\n",
       "      <td>0.056648</td>\n",
       "      <td>0.782224</td>\n",
       "    </tr>\n",
       "    <tr>\n",
       "      <th>radio</th>\n",
       "      <td>-0.110680</td>\n",
       "      <td>0.054809</td>\n",
       "      <td>1.000000</td>\n",
       "      <td>0.354104</td>\n",
       "      <td>0.576223</td>\n",
       "    </tr>\n",
       "    <tr>\n",
       "      <th>newspaper</th>\n",
       "      <td>-0.154944</td>\n",
       "      <td>0.056648</td>\n",
       "      <td>0.354104</td>\n",
       "      <td>1.000000</td>\n",
       "      <td>0.228299</td>\n",
       "    </tr>\n",
       "    <tr>\n",
       "      <th>sales</th>\n",
       "      <td>-0.051616</td>\n",
       "      <td>0.782224</td>\n",
       "      <td>0.576223</td>\n",
       "      <td>0.228299</td>\n",
       "      <td>1.000000</td>\n",
       "    </tr>\n",
       "  </tbody>\n",
       "</table>\n",
       "</div>"
      ],
      "text/plain": [
       "            Unnamed: 0        TV     radio  newspaper     sales\n",
       "Unnamed: 0    1.000000  0.017715 -0.110680  -0.154944 -0.051616\n",
       "TV            0.017715  1.000000  0.054809   0.056648  0.782224\n",
       "radio        -0.110680  0.054809  1.000000   0.354104  0.576223\n",
       "newspaper    -0.154944  0.056648  0.354104   1.000000  0.228299\n",
       "sales        -0.051616  0.782224  0.576223   0.228299  1.000000"
      ]
     },
     "execution_count": 40,
     "metadata": {},
     "output_type": "execute_result"
    }
   ],
   "source": [
    "corr=df.corr()\n",
    "corr\n"
   ]
  },
  {
   "cell_type": "code",
   "execution_count": 41,
   "metadata": {},
   "outputs": [
    {
     "data": {
      "text/plain": [
       "<AxesSubplot:>"
      ]
     },
     "execution_count": 41,
     "metadata": {},
     "output_type": "execute_result"
    },
    {
     "data": {
      "image/png": "[encoded data removed]",
      "text/plain": [
       "<Figure size 432x288 with 2 Axes>"
      ]
     },
     "metadata": {
      "needs_background": "light"
     },
     "output_type": "display_data"
    }
   ],
   "source": [
    "sns.heatmap(data=corr,annot=True)"
   ]
  },
  {
   "cell_type": "markdown",
   "metadata": {},
   "source": [
    "From this relation chart we can say that TV having high co relation with Sales and newspaper having less."
   ]
  },
  {
   "cell_type": "markdown",
   "metadata": {},
   "source": [
    "# Data Cleaning"
   ]
  },
  {
   "cell_type": "code",
   "execution_count": 42,
   "metadata": {},
   "outputs": [
    {
     "data": {
      "text/plain": [
       "(200, 5)"
      ]
     },
     "execution_count": 42,
     "metadata": {},
     "output_type": "execute_result"
    }
   ],
   "source": [
    "df.shape"
   ]
  },
  {
   "cell_type": "code",
   "execution_count": 43,
   "metadata": {},
   "outputs": [],
   "source": [
    "from scipy.stats import zscore"
   ]
  },
  {
   "cell_type": "code",
   "execution_count": 44,
   "metadata": {},
   "outputs": [],
   "source": [
    "z=np.abs(zscore(df))"
   ]
  },
  {
   "cell_type": "code",
   "execution_count": 46,
   "metadata": {},
   "outputs": [
    {
     "name": "stdout",
     "output_type": "stream",
     "text": [
      "(array([ 16, 101], dtype=int64), array([3, 3], dtype=int64))\n"
     ]
    }
   ],
   "source": [
    "threshold=3\n",
    "print(np.where(z>3))"
   ]
  },
  {
   "cell_type": "code",
   "execution_count": 47,
   "metadata": {},
   "outputs": [],
   "source": [
    "df_new=df[(z<3).all(axis=1)]"
   ]
  },
  {
   "cell_type": "code",
   "execution_count": 48,
   "metadata": {},
   "outputs": [
    {
     "data": {
      "text/html": [
       "<div>\n",
       "<style scoped>\n",
       "    .dataframe tbody tr th:only-of-type {\n",
       "        vertical-align: middle;\n",
       "    }\n",
       "\n",
       "    .dataframe tbody tr th {\n",
       "        vertical-align: top;\n",
       "    }\n",
       "\n",
       "    .dataframe thead th {\n",
       "        text-align: right;\n",
       "    }\n",
       "</style>\n",
       "<table border=\"1\" class=\"dataframe\">\n",
       "  <thead>\n",
       "    <tr style=\"text-align: right;\">\n",
       "      <th></th>\n",
       "      <th>Unnamed: 0</th>\n",
       "      <th>TV</th>\n",
       "      <th>radio</th>\n",
       "      <th>newspaper</th>\n",
       "      <th>sales</th>\n",
       "    </tr>\n",
       "  </thead>\n",
       "  <tbody>\n",
       "    <tr>\n",
       "      <th>0</th>\n",
       "      <td>1</td>\n",
       "      <td>230.1</td>\n",
       "      <td>37.8</td>\n",
       "      <td>69.2</td>\n",
       "      <td>22.1</td>\n",
       "    </tr>\n",
       "    <tr>\n",
       "      <th>1</th>\n",
       "      <td>2</td>\n",
       "      <td>44.5</td>\n",
       "      <td>39.3</td>\n",
       "      <td>45.1</td>\n",
       "      <td>10.4</td>\n",
       "    </tr>\n",
       "    <tr>\n",
       "      <th>2</th>\n",
       "      <td>3</td>\n",
       "      <td>17.2</td>\n",
       "      <td>45.9</td>\n",
       "      <td>69.3</td>\n",
       "      <td>9.3</td>\n",
       "    </tr>\n",
       "    <tr>\n",
       "      <th>3</th>\n",
       "      <td>4</td>\n",
       "      <td>151.5</td>\n",
       "      <td>41.3</td>\n",
       "      <td>58.5</td>\n",
       "      <td>18.5</td>\n",
       "    </tr>\n",
       "    <tr>\n",
       "      <th>4</th>\n",
       "      <td>5</td>\n",
       "      <td>180.8</td>\n",
       "      <td>10.8</td>\n",
       "      <td>58.4</td>\n",
       "      <td>12.9</td>\n",
       "    </tr>\n",
       "    <tr>\n",
       "      <th>...</th>\n",
       "      <td>...</td>\n",
       "      <td>...</td>\n",
       "      <td>...</td>\n",
       "      <td>...</td>\n",
       "      <td>...</td>\n",
       "    </tr>\n",
       "    <tr>\n",
       "      <th>195</th>\n",
       "      <td>196</td>\n",
       "      <td>38.2</td>\n",
       "      <td>3.7</td>\n",
       "      <td>13.8</td>\n",
       "      <td>7.6</td>\n",
       "    </tr>\n",
       "    <tr>\n",
       "      <th>196</th>\n",
       "      <td>197</td>\n",
       "      <td>94.2</td>\n",
       "      <td>4.9</td>\n",
       "      <td>8.1</td>\n",
       "      <td>9.7</td>\n",
       "    </tr>\n",
       "    <tr>\n",
       "      <th>197</th>\n",
       "      <td>198</td>\n",
       "      <td>177.0</td>\n",
       "      <td>9.3</td>\n",
       "      <td>6.4</td>\n",
       "      <td>12.8</td>\n",
       "    </tr>\n",
       "    <tr>\n",
       "      <th>198</th>\n",
       "      <td>199</td>\n",
       "      <td>283.6</td>\n",
       "      <td>42.0</td>\n",
       "      <td>66.2</td>\n",
       "      <td>25.5</td>\n",
       "    </tr>\n",
       "    <tr>\n",
       "      <th>199</th>\n",
       "      <td>200</td>\n",
       "      <td>232.1</td>\n",
       "      <td>8.6</td>\n",
       "      <td>8.7</td>\n",
       "      <td>13.4</td>\n",
       "    </tr>\n",
       "  </tbody>\n",
       "</table>\n",
       "<p>198 rows × 5 columns</p>\n",
       "</div>"
      ],
      "text/plain": [
       "     Unnamed: 0     TV  radio  newspaper  sales\n",
       "0             1  230.1   37.8       69.2   22.1\n",
       "1             2   44.5   39.3       45.1   10.4\n",
       "2             3   17.2   45.9       69.3    9.3\n",
       "3             4  151.5   41.3       58.5   18.5\n",
       "4             5  180.8   10.8       58.4   12.9\n",
       "..          ...    ...    ...        ...    ...\n",
       "195         196   38.2    3.7       13.8    7.6\n",
       "196         197   94.2    4.9        8.1    9.7\n",
       "197         198  177.0    9.3        6.4   12.8\n",
       "198         199  283.6   42.0       66.2   25.5\n",
       "199         200  232.1    8.6        8.7   13.4\n",
       "\n",
       "[198 rows x 5 columns]"
      ]
     },
     "execution_count": 48,
     "metadata": {},
     "output_type": "execute_result"
    }
   ],
   "source": [
    "df_new"
   ]
  },
  {
   "cell_type": "code",
   "execution_count": 49,
   "metadata": {},
   "outputs": [
    {
     "data": {
      "text/plain": [
       "(198, 5)"
      ]
     },
     "execution_count": 49,
     "metadata": {},
     "output_type": "execute_result"
    }
   ],
   "source": [
    "df_new.shape\n"
   ]
  },
  {
   "cell_type": "code",
   "execution_count": 50,
   "metadata": {},
   "outputs": [],
   "source": [
    "loss_of_data=(200-198)*100/200"
   ]
  },
  {
   "cell_type": "code",
   "execution_count": 51,
   "metadata": {},
   "outputs": [
    {
     "data": {
      "text/plain": [
       "1.0"
      ]
     },
     "execution_count": 51,
     "metadata": {},
     "output_type": "execute_result"
    }
   ],
   "source": [
    "loss_of_data"
   ]
  },
  {
   "cell_type": "markdown",
   "metadata": {},
   "source": [
    "Only 1% data is lossed during outliers removed"
   ]
  },
  {
   "cell_type": "raw",
   "metadata": {},
   "source": [
    "Skewness"
   ]
  },
  {
   "cell_type": "code",
   "execution_count": 52,
   "metadata": {},
   "outputs": [
    {
     "data": {
      "text/plain": [
       "Unnamed: 0    0.000000\n",
       "TV           -0.069853\n",
       "radio         0.094175\n",
       "newspaper     0.894720\n",
       "sales         0.407571\n",
       "dtype: float64"
      ]
     },
     "execution_count": 52,
     "metadata": {},
     "output_type": "execute_result"
    }
   ],
   "source": [
    "df.skew()"
   ]
  },
  {
   "cell_type": "markdown",
   "metadata": {},
   "source": [
    "we consider range -0.5 to +0.5 so newspaper and sales having skewness."
   ]
  },
  {
   "cell_type": "code",
   "execution_count": 53,
   "metadata": {},
   "outputs": [],
   "source": [
    "df['newspaper']=np.sqrt(df['newspaper'])"
   ]
  },
  {
   "cell_type": "code",
   "execution_count": 55,
   "metadata": {},
   "outputs": [],
   "source": [
    "df['sales']=np.sqrt(df['sales'])"
   ]
  },
  {
   "cell_type": "code",
   "execution_count": 56,
   "metadata": {},
   "outputs": [
    {
     "data": {
      "text/plain": [
       "Index(['Unnamed: 0', 'TV', 'radio', 'newspaper', 'sales'], dtype='object')"
      ]
     },
     "execution_count": 56,
     "metadata": {},
     "output_type": "execute_result"
    }
   ],
   "source": [
    "df.columns"
   ]
  },
  {
   "cell_type": "code",
   "execution_count": 57,
   "metadata": {},
   "outputs": [],
   "source": [
    "x=df.drop(['sales','Unnamed: 0'],axis=1)"
   ]
  },
  {
   "cell_type": "code",
   "execution_count": 58,
   "metadata": {},
   "outputs": [
    {
     "data": {
      "text/html": [
       "<div>\n",
       "<style scoped>\n",
       "    .dataframe tbody tr th:only-of-type {\n",
       "        vertical-align: middle;\n",
       "    }\n",
       "\n",
       "    .dataframe tbody tr th {\n",
       "        vertical-align: top;\n",
       "    }\n",
       "\n",
       "    .dataframe thead th {\n",
       "        text-align: right;\n",
       "    }\n",
       "</style>\n",
       "<table border=\"1\" class=\"dataframe\">\n",
       "  <thead>\n",
       "    <tr style=\"text-align: right;\">\n",
       "      <th></th>\n",
       "      <th>TV</th>\n",
       "      <th>radio</th>\n",
       "      <th>newspaper</th>\n",
       "    </tr>\n",
       "  </thead>\n",
       "  <tbody>\n",
       "    <tr>\n",
       "      <th>0</th>\n",
       "      <td>230.1</td>\n",
       "      <td>37.8</td>\n",
       "      <td>8.318654</td>\n",
       "    </tr>\n",
       "    <tr>\n",
       "      <th>1</th>\n",
       "      <td>44.5</td>\n",
       "      <td>39.3</td>\n",
       "      <td>6.715653</td>\n",
       "    </tr>\n",
       "    <tr>\n",
       "      <th>2</th>\n",
       "      <td>17.2</td>\n",
       "      <td>45.9</td>\n",
       "      <td>8.324662</td>\n",
       "    </tr>\n",
       "    <tr>\n",
       "      <th>3</th>\n",
       "      <td>151.5</td>\n",
       "      <td>41.3</td>\n",
       "      <td>7.648529</td>\n",
       "    </tr>\n",
       "    <tr>\n",
       "      <th>4</th>\n",
       "      <td>180.8</td>\n",
       "      <td>10.8</td>\n",
       "      <td>7.641989</td>\n",
       "    </tr>\n",
       "    <tr>\n",
       "      <th>...</th>\n",
       "      <td>...</td>\n",
       "      <td>...</td>\n",
       "      <td>...</td>\n",
       "    </tr>\n",
       "    <tr>\n",
       "      <th>195</th>\n",
       "      <td>38.2</td>\n",
       "      <td>3.7</td>\n",
       "      <td>3.714835</td>\n",
       "    </tr>\n",
       "    <tr>\n",
       "      <th>196</th>\n",
       "      <td>94.2</td>\n",
       "      <td>4.9</td>\n",
       "      <td>2.846050</td>\n",
       "    </tr>\n",
       "    <tr>\n",
       "      <th>197</th>\n",
       "      <td>177.0</td>\n",
       "      <td>9.3</td>\n",
       "      <td>2.529822</td>\n",
       "    </tr>\n",
       "    <tr>\n",
       "      <th>198</th>\n",
       "      <td>283.6</td>\n",
       "      <td>42.0</td>\n",
       "      <td>8.136338</td>\n",
       "    </tr>\n",
       "    <tr>\n",
       "      <th>199</th>\n",
       "      <td>232.1</td>\n",
       "      <td>8.6</td>\n",
       "      <td>2.949576</td>\n",
       "    </tr>\n",
       "  </tbody>\n",
       "</table>\n",
       "<p>200 rows × 3 columns</p>\n",
       "</div>"
      ],
      "text/plain": [
       "        TV  radio  newspaper\n",
       "0    230.1   37.8   8.318654\n",
       "1     44.5   39.3   6.715653\n",
       "2     17.2   45.9   8.324662\n",
       "3    151.5   41.3   7.648529\n",
       "4    180.8   10.8   7.641989\n",
       "..     ...    ...        ...\n",
       "195   38.2    3.7   3.714835\n",
       "196   94.2    4.9   2.846050\n",
       "197  177.0    9.3   2.529822\n",
       "198  283.6   42.0   8.136338\n",
       "199  232.1    8.6   2.949576\n",
       "\n",
       "[200 rows x 3 columns]"
      ]
     },
     "execution_count": 58,
     "metadata": {},
     "output_type": "execute_result"
    }
   ],
   "source": [
    "x"
   ]
  },
  {
   "cell_type": "code",
   "execution_count": 59,
   "metadata": {},
   "outputs": [
    {
     "data": {
      "text/plain": [
       "0      4.701064\n",
       "1      3.224903\n",
       "2      3.049590\n",
       "3      4.301163\n",
       "4      3.591657\n",
       "         ...   \n",
       "195    2.756810\n",
       "196    3.114482\n",
       "197    3.577709\n",
       "198    5.049752\n",
       "199    3.660601\n",
       "Name: sales, Length: 200, dtype: float64"
      ]
     },
     "execution_count": 59,
     "metadata": {},
     "output_type": "execute_result"
    }
   ],
   "source": [
    "y=df['sales']\n",
    "y"
   ]
  },
  {
   "cell_type": "markdown",
   "metadata": {},
   "source": [
    "# Standard Scaler"
   ]
  },
  {
   "cell_type": "code",
   "execution_count": 60,
   "metadata": {},
   "outputs": [],
   "source": [
    "from sklearn.preprocessing import StandardScaler"
   ]
  },
  {
   "cell_type": "code",
   "execution_count": 61,
   "metadata": {},
   "outputs": [],
   "source": [
    "std=StandardScaler()"
   ]
  },
  {
   "cell_type": "code",
   "execution_count": 62,
   "metadata": {},
   "outputs": [],
   "source": [
    "X=std.fit_transform(x)"
   ]
  },
  {
   "cell_type": "code",
   "execution_count": 63,
   "metadata": {},
   "outputs": [
    {
     "data": {
      "text/plain": [
       "array([[ 9.69852266e-01,  9.81522472e-01,  1.56309461e+00],\n",
       "       [-1.19737623e+00,  1.08280781e+00,  7.74855194e-01],\n",
       "       [-1.51615499e+00,  1.52846331e+00,  1.56604912e+00],\n",
       "       [ 5.20496822e-02,  1.21785493e+00,  1.23357596e+00],\n",
       "       [ 3.94182198e-01, -8.41613655e-01,  1.23036007e+00],\n",
       "       [-1.61540845e+00,  1.73103399e+00,  1.73106889e+00],\n",
       "       [-1.04557682e+00,  6.43904671e-01, -1.43678801e-01],\n",
       "       [-3.13436589e-01, -2.47406325e-01, -8.52652825e-01],\n",
       "       [-1.61657614e+00, -1.42906863e+00, -2.03568892e+00],\n",
       "       [ 6.16042873e-01, -1.39530685e+00, -2.63332869e-01],\n",
       "       [-9.45155670e-01, -1.17923146e+00, -1.08436840e-01],\n",
       "       [ 7.90028350e-01,  4.96973404e-02, -1.54396138e+00],\n",
       "       [-1.43908760e+00,  7.99208859e-01,  1.46436938e+00],\n",
       "       [-5.78501712e-01, -1.05768905e+00, -1.20797302e+00],\n",
       "       [ 6.66253447e-01,  6.50657027e-01,  8.07641928e-01],\n",
       "       [ 5.64664612e-01,  1.65000572e+00,  1.04903522e+00],\n",
       "       [-9.25304978e-01,  9.00494200e-01,  2.72279688e+00],\n",
       "       [ 1.56887609e+00,  1.10306488e+00,  1.14575858e+00],\n",
       "       [-9.08957349e-01, -1.86635121e-01, -4.23879865e-01],\n",
       "       [ 3.00679600e-03,  4.29449843e-02, -3.78392733e-01],\n",
       "       [ 8.33232798e-01,  2.99534513e-01,  1.06589741e+00],\n",
       "       [ 1.05509347e+00, -1.22649795e+00, -1.43678801e-01],\n",
       "       [-1.56286250e+00, -4.97243498e-01,  9.35686184e-01],\n",
       "       [ 9.48833887e-01, -4.29719938e-01, -1.04630767e-02],\n",
       "       [-9.89527805e-01, -7.20071247e-01, -4.23879865e-01],\n",
       "       [ 1.35285385e+00, -1.33453565e+00, -3.56006466e-01],\n",
       "       [-4.83714657e-02,  4.07572210e-01, -7.81956865e-01],\n",
       "       [ 1.08662104e+00, -4.43224650e-01, -1.74306253e-01],\n",
       "       [ 1.18820988e+00,  2.59020377e-01, -1.74306253e-01],\n",
       "       [-8.92609721e-01, -4.90491142e-01,  6.13487141e-01],\n",
       "       [ 1.70316018e+00,  3.40048650e-01,  7.04546681e-01],\n",
       "       [-3.98677796e-01, -3.95958157e-01,  5.27632526e-01],\n",
       "       [-5.82004775e-01, -1.46958277e+00,  1.65886160e-01],\n",
       "       [ 1.38438142e+00, -2.20396901e-01, -2.25808619e+00],\n",
       "       [-5.99520091e-01, -1.47633512e+00, -1.18977295e+00],\n",
       "       [ 1.67747105e+00, -1.29402151e+00, -1.09379666e+00],\n",
       "       [ 1.39956136e+00,  1.38666383e+00, -1.42788026e+00],\n",
       "       [-8.44734522e-01,  1.76479577e+00,  7.96748948e-01],\n",
       "       [-1.21372386e+00,  2.32010953e-01,  3.85835748e-01],\n",
       "       [ 9.45330823e-01,  9.74770116e-01,  2.54214524e-01],\n",
       "       [ 6.47570443e-01, -6.50927121e-02,  2.36774660e-01],\n",
       "       [ 3.49810063e-01,  6.84418807e-01,  5.31587283e-01],\n",
       "       [ 1.71133400e+00,  2.99534513e-01, -1.86769474e+00],\n",
       "       [ 6.98948705e-01, -1.00367020e+00, -8.74648181e-04],\n",
       "       [-1.42390765e+00,  1.64487393e-01,  7.08285217e-01],\n",
       "       [ 3.27623995e-01, -5.15880000e-02,  2.32397474e-01],\n",
       "       [-6.69581357e-01, -9.02384859e-01,  4.10629831e-01],\n",
       "       [ 1.08428567e+00,  1.23135965e+00, -4.12416366e-01],\n",
       "       [ 9.35989321e-01, -5.03995854e-01,  9.46143488e-01],\n",
       "       [-9.35814168e-01, -7.80842451e-01,  4.55550447e-01],\n",
       "       [ 6.16042873e-01, -1.36154507e+00,  3.65011663e-01],\n",
       "       [-5.44638766e-01, -9.22641928e-01, -1.59442906e+00],\n",
       "       [ 8.09879042e-01,  1.24486436e+00,  5.66952663e-01],\n",
       "       [ 4.15200577e-01,  1.54872038e+00,  1.23999953e+00],\n",
       "       [ 1.35051848e+00,  3.73810430e-01, -5.66662552e-01],\n",
       "       [ 6.05533683e-01,  1.76479577e+00,  1.28148863e+00],\n",
       "       [-1.63175608e+00,  3.26543937e-01,  6.36497731e-01],\n",
       "       [-1.26606546e-01, -2.74415749e-01, -5.23966170e-01],\n",
       "       [ 7.44488528e-01,  1.77830048e+00,  4.91806608e-01],\n",
       "       [ 7.43320840e-01,  4.21076922e-01, -1.02784902e+00],\n",
       "       [-1.09228433e+00, -1.43582099e+00, -2.52678300e-01],\n",
       "       [ 1.33417085e+00,  1.31238792e+00,  1.10937324e+00],\n",
       "       [ 1.07727954e+00, -5.24252922e-01,  4.18304911e-02],\n",
       "       [-5.17781948e-01,  4.27829278e-01, -1.10225467e+00],\n",
       "       [-1.86158622e-01,  1.31914027e+00,  1.16047828e-01],\n",
       "       [-9.11292725e-01, -9.42898996e-01, -2.06092275e+00],\n",
       "       [-1.34917564e+00,  9.02114765e-02, -1.79806665e+00],\n",
       "       [-9.04082253e-02, -5.91776482e-01, -9.56964653e-01],\n",
       "       [ 1.05509347e+00,  2.86029801e-01, -8.96540728e-01],\n",
       "       [ 8.14549794e-01,  1.39341619e+00,  3.71205936e-02],\n",
       "       [ 6.07869059e-01,  4.95352838e-01,  5.31587283e-01],\n",
       "       [-4.34876116e-01, -6.05281194e-01,  2.41144925e-01],\n",
       "       [-1.40405696e+00,  6.57409383e-01, -3.67170601e-01],\n",
       "       [-2.06009314e-01, -1.18598381e+00,  2.23622209e-01],\n",
       "       [ 7.74848409e-01,  9.02114765e-02, -7.47661651e-01],\n",
       "       [-1.51965805e+00,  1.37991148e+00,  2.12194471e+00],\n",
       "       [-1.39588315e+00, -1.46283041e+00, -2.90191276e-01],\n",
       "       [-3.09933525e-01,  3.53553362e-01, -6.74445131e-01],\n",
       "       [-1.65394214e+00,  4.48086346e-01, -1.01980839e+00],\n",
       "       [-3.62479475e-01, -1.05093669e+00, -1.64053001e-01],\n",
       "       [-8.24883830e-01,  2.32010953e-01, -2.05337635e-01],\n",
       "       [ 1.08311798e+00, -1.29402151e+00,  4.59600641e-01],\n",
       "       [-8.37728396e-01, -2.00139833e-01,  2.75861785e-01],\n",
       "       [-9.18298852e-01,  1.43393033e+00,  4.06512034e-01],\n",
       "       [ 7.76016097e-01,  1.33264499e+00,  3.31377634e-01],\n",
       "       [ 5.38975481e-01, -3.28434597e-01,  1.45830743e+00],\n",
       "       [-8.26051518e-01,  2.86029801e-01, -5.60506324e-01],\n",
       "       [-4.24366926e-01,  1.17058844e+00,  1.38174010e+00],\n",
       "       [-6.85928986e-01,  1.50982681e-01,  1.68540016e+00],\n",
       "       [-4.34876116e-01,  1.65675807e+00,  9.97964748e-01],\n",
       "       [-1.48792614e-01, -1.24000266e+00, -1.02784902e+00],\n",
       "       [-1.38303858e+00, -1.46958277e+00,  2.97343158e-01],\n",
       "       [ 8.25058983e-01,  6.91171163e-01,  1.24961438e+00],\n",
       "       [ 1.21273132e+00,  8.93741844e-01,  1.65371357e+00],\n",
       "       [-4.62900623e-01, -6.25538262e-01, -9.03970725e-01],\n",
       "       [ 1.89836839e-01,  5.62876398e-01,  1.04903522e+00],\n",
       "       [ 5.90353742e-01, -1.33453565e+00, -1.33301442e+00],\n",
       "       [ 4.42057396e-01, -1.52873340e-01, -2.21009887e-01],\n",
       "       [ 1.66579418e+00,  1.28537849e+00,  9.91099345e-01],\n",
       "       [-1.38283424e-01,  1.24486436e+00,  8.04014892e-01],\n",
       "       [ 8.79940308e-01, -1.28051680e+00,  9.42661222e-01],\n",
       "       [ 1.74402926e+00,  8.80237132e-01,  2.41193703e+00],\n",
       "       [ 1.55486384e+00, -8.88880147e-01, -2.52678300e-01],\n",
       "       [ 4.77088029e-01, -4.09462869e-01, -4.46996354e-01],\n",
       "       [ 1.06443498e+00,  7.45190011e-01, -1.39537466e+00],\n",
       "       [-1.06755854e-01,  1.56222509e+00,  1.24961438e+00],\n",
       "       [-1.42507534e+00, -8.28108943e-01,  1.52385811e-01],\n",
       "       [-6.61407543e-01, -1.55061104e+00, -1.58943020e-01],\n",
       "       [-1.56403019e+00, -1.54385868e+00, -3.94500707e-02],\n",
       "       [ 1.26527727e+00,  2.45515665e-01, -1.37421317e+00],\n",
       "       [ 9.19641692e-01, -1.01717491e+00,  1.16872641e+00],\n",
       "       [ 1.10530405e+00,  9.95027184e-01, -1.58943020e-01],\n",
       "       [ 3.34630122e-01, -5.31005278e-01, -1.76563543e+00],\n",
       "       [ 7.30476274e-01, -1.79882765e-01, -9.18933677e-01],\n",
       "       [-8.03865450e-01,  1.58923451e+00,  3.60828829e-01],\n",
       "       [-8.40063771e-01,  7.92456503e-01,  1.04226804e+00],\n",
       "       [-9.15759131e-02, -6.05281194e-01, -3.94500707e-02],\n",
       "       [-8.24883830e-01, -1.51684926e+00, -6.35702865e-01],\n",
       "       [-2.49213762e-01,  9.20751268e-01,  1.84868232e+00],\n",
       "       [-1.49046586e+00, -4.90491142e-01, -2.05337635e-01],\n",
       "       [-6.70544700e-02,  2.38763309e-01,  8.14884191e-01],\n",
       "       [-1.49747198e+00, -1.05606848e-01,  9.63502716e-01],\n",
       "       [ 8.98623313e-01, -1.40881156e+00, -5.85248317e-01],\n",
       "       [-2.79573643e-01,  7.65447079e-01, -7.95865131e-01],\n",
       "       [ 9.62846140e-01,  6.10142891e-01,  1.70829607e+00],\n",
       "       [-6.98773552e-01, -7.74090095e-01, -2.49146030e-02],\n",
       "       [-1.62591764e+00,  1.05579839e+00,  9.70422285e-01],\n",
       "       [-7.80511695e-01, -1.57086811e+00, -1.03593300e+00],\n",
       "       [ 8.55418865e-01,  1.73778635e+00, -1.64778750e+00],\n",
       "       [-1.02105537e+00, -7.60585383e-01,  7.00803816e-01],\n",
       "       [-1.70882347e+00,  1.10306488e+00, -1.07702861e+00],\n",
       "       [ 1.37971067e+00, -1.37504978e+00,  6.97056606e-01],\n",
       "       [-1.61891151e+00,  2.65772733e-01, -1.81483556e+00],\n",
       "       [ 8.49580427e-01,  6.91171163e-01,  7.74855194e-01],\n",
       "       [-1.28612050e+00,  1.03554132e+00,  1.45527300e+00],\n",
       "       [-1.15300409e+00,  1.60273923e+00, -1.09379666e+00],\n",
       "       [-1.41806922e+00,  1.06255074e+00, -1.02784902e+00],\n",
       "       [ 1.47896413e+00,  3.80562786e-01,  1.27195443e+00],\n",
       "       [-1.21489154e+00,  1.77992105e-01, -3.01025360e-01],\n",
       "       [ 4.42057396e-01,  1.39341619e+00, -1.88628219e+00],\n",
       "       [-8.59914463e-01, -4.22967582e-01, -7.61299819e-01],\n",
       "       [ 5.44813920e-01,  8.19465927e-01,  1.74806889e+00],\n",
       "       [ 8.57754241e-01,  6.70914095e-01,  4.99804564e-01],\n",
       "       [-4.95595880e-01, -1.18598381e+00,  3.56639928e-01],\n",
       "       [-5.93681653e-01, -5.71519414e-01,  5.39481500e-01],\n",
       "       [-7.87313476e-02, -1.44257334e+00, -1.05223385e+00],\n",
       "       [ 1.08662104e+00, -1.07794612e+00, -1.07702861e+00],\n",
       "       [ 1.12281936e+00,  1.73778635e+00,  7.45435707e-01],\n",
       "       [-1.27327593e+00,  1.15033137e+00, -8.31134637e-01],\n",
       "       [-1.19504085e+00,  1.71239749e-01, -2.95601744e-01],\n",
       "       [ 1.56070228e+00, -6.32290618e-01,  4.63645352e-01],\n",
       "       [-3.04095087e-01, -1.00367020e+00,  9.04123071e-01],\n",
       "       [ 5.90353742e-01,  2.43084817e-03, -6.74445131e-01],\n",
       "       [ 2.83251860e-01,  1.10981724e+00,  4.91806608e-01],\n",
       "       [ 4.75920341e-01, -1.46120984e-01, -1.01181041e+00],\n",
       "       [-1.66912209e+00, -7.87594807e-01, -1.35343306e+00],\n",
       "       [-6.20538471e-01,  1.36640677e+00,  9.66964214e-01],\n",
       "       [ 3.21989902e-02, -1.48308748e+00, -1.03444101e-01],\n",
       "       [-1.58037782e+00,  9.20751268e-01,  7.78514222e-01],\n",
       "       [-1.79152496e-01, -3.28434597e-01,  3.65011663e-01],\n",
       "       [ 2.97264113e-01, -3.48691665e-01,  1.97126837e-01],\n",
       "       [-7.16288868e-01,  8.46475352e-01,  9.25197207e-01],\n",
       "       [ 4.82926468e-01, -3.48691665e-01, -3.94500707e-02],\n",
       "       [ 1.92172214e-01,  9.13998912e-01, -1.18977295e+00],\n",
       "       [-3.48467222e-01, -5.78271770e-01, -1.38474492e+00],\n",
       "       [ 1.02123053e+00, -1.34128800e+00,  2.00075071e+00],\n",
       "       [-1.50798117e+00,  9.68017760e-01, -2.42073402e-01],\n",
       "       [ 6.97781017e-01, -1.21974559e+00, -3.61581340e-01],\n",
       "       [ 7.98202165e-01,  2.26879163e-02,  1.20453312e+00],\n",
       "       [ 1.60273904e+00, -8.55118367e-01, -1.28343326e+00],\n",
       "       [-1.13315340e+00, -7.87594807e-01, -4.18140328e-01],\n",
       "       [ 2.03849092e-01, -1.59625696e-01,  8.58012435e-01],\n",
       "       [-1.48813048e+00, -2.13644545e-01, -4.99971899e-01],\n",
       "       [ 2.49388915e-01, -1.09145083e+00, -7.68158551e-01],\n",
       "       [ 8.79940308e-01, -1.34128800e+00, -7.47661651e-01],\n",
       "       [ 1.51633014e+00,  1.73103399e+00,  6.51745599e-01],\n",
       "       [ 1.18353913e+00,  4.68343414e-01, -3.11912423e-01],\n",
       "       [ 2.70407294e-01, -1.04418434e+00,  3.89982728e-01],\n",
       "       [ 1.51399477e+00, -1.41556392e+00, -1.33556727e-01],\n",
       "       [ 2.16693657e-01, -8.95632503e-01, -4.64503706e-01],\n",
       "       [ 1.11601758e-01, -1.39530685e+00, -1.11076317e+00],\n",
       "       [ 8.34400486e-01, -1.20624088e+00,  4.65317703e-02],\n",
       "       [-1.06075676e+00, -1.18598381e+00,  1.52385811e-01],\n",
       "       [ 1.64127273e+00,  1.33264499e+00,  1.63923092e+00],\n",
       "       [ 1.24659427e+00, -1.32616272e-01,  1.65886160e-01],\n",
       "       [ 6.76762637e-01,  1.47444446e+00, -3.50445868e-01],\n",
       "       [-8.80728498e-02, -1.42906863e+00,  8.67752879e-03],\n",
       "       [ 5.14454038e-01,  3.67058074e-01, -4.29635106e-01],\n",
       "       [ 1.62258973e+00, -6.32290618e-01, -1.58155966e+00],\n",
       "       [-1.49863967e+00, -7.53833027e-01, -1.48755990e-01],\n",
       "       [-1.25576062e+00,  1.20435022e+00, -1.34317973e+00],\n",
       "       [-8.35393020e-01, -8.41613655e-01, -1.32293490e+00],\n",
       "       [-1.51615499e+00, -1.29402151e+00,  2.36774660e-01],\n",
       "       [ 2.30705910e-01,  1.26512143e+00, -1.59442906e+00],\n",
       "       [ 3.10313024e-02,  8.32970639e-01, -1.32293490e+00],\n",
       "       [-1.27094056e+00, -1.32103093e+00, -7.00729744e-01],\n",
       "       [-6.17035408e-01, -1.24000266e+00, -1.12793536e+00],\n",
       "       [ 3.49810063e-01, -9.42898996e-01, -1.28343326e+00],\n",
       "       [ 1.59456522e+00,  1.26512143e+00,  1.47344507e+00],\n",
       "       [ 9.93206022e-01, -9.90165488e-01, -1.07702861e+00]])"
      ]
     },
     "execution_count": 63,
     "metadata": {},
     "output_type": "execute_result"
    }
   ],
   "source": [
    "X"
   ]
  },
  {
   "cell_type": "code",
   "execution_count": 64,
   "metadata": {},
   "outputs": [],
   "source": [
    "x=X"
   ]
  },
  {
   "cell_type": "code",
   "execution_count": 65,
   "metadata": {},
   "outputs": [],
   "source": [
    "from sklearn.model_selection import train_test_split\n",
    "from sklearn.linear_model import LinearRegression\n",
    "from sklearn.metrics import mean_absolute_error,mean_squared_error,r2_score"
   ]
  },
  {
   "cell_type": "code",
   "execution_count": 66,
   "metadata": {},
   "outputs": [],
   "source": [
    "ln=LinearRegression()"
   ]
  },
  {
   "cell_type": "code",
   "execution_count": 67,
   "metadata": {},
   "outputs": [
    {
     "name": "stdout",
     "output_type": "stream",
     "text": [
      "At random state 108 score is best\n",
      "Train score 87.56683044426154\n",
      "Test Score 0.8757074778028171\n",
      "At random state 255 score is best\n",
      "Train score 87.6265650039685\n",
      "Test Score 0.8763175089380879\n"
     ]
    }
   ],
   "source": [
    "for i in range(1,500):\n",
    "    x_train,x_test,y_train,y_test=train_test_split(x,y,test_size=0.20,random_state=i)\n",
    "    ln=LinearRegression()\n",
    "    ln.fit(x_train,y_train)\n",
    "    if round(ln.score(x_train,y_train)*100,2)==round(ln.score(x_test,y_test)*100,2):\n",
    "        print('At random state',i,'score is best')\n",
    "        print('Train score',ln.score(x_train,y_train)*100)\n",
    "        print('Test Score',ln.score(x_test,y_test))"
   ]
  },
  {
   "cell_type": "markdown",
   "metadata": {},
   "source": [
    "From this we get random state=255 best score."
   ]
  },
  {
   "cell_type": "code",
   "execution_count": 68,
   "metadata": {},
   "outputs": [],
   "source": [
    "x_train,x_test,y_train,y_test=train_test_split(x,y,test_size=0.20,random_state=255)"
   ]
  },
  {
   "cell_type": "code",
   "execution_count": 69,
   "metadata": {},
   "outputs": [
    {
     "name": "stdout",
     "output_type": "stream",
     "text": [
      "Train Score 87.6265650039685\n"
     ]
    }
   ],
   "source": [
    "ln=LinearRegression()\n",
    "ln.fit(x_train,y_train)\n",
    "pred=ln.predict(x_test)\n",
    "print('Train Score',ln.score(x_train,y_train)*100)"
   ]
  },
  {
   "cell_type": "code",
   "execution_count": 70,
   "metadata": {},
   "outputs": [
    {
     "name": "stdout",
     "output_type": "stream",
     "text": [
      "Error\n",
      "Mean Absoluate Error 0.18039480877725142\n",
      "Mean Squared Error 0.0547204789718672\n",
      "Room Mean Squared Error 0.2339240880539394\n",
      "R2 Score 87.63175089380879\n"
     ]
    }
   ],
   "source": [
    "print('Error')\n",
    "print('Mean Absoluate Error',mean_absolute_error(y_test,pred))\n",
    "print('Mean Squared Error',mean_squared_error(y_test,pred))\n",
    "print('Room Mean Squared Error',np.sqrt(mean_squared_error(y_test,pred)))\n",
    "print('R2 Score',r2_score(y_test,pred)*100)"
   ]
  },
  {
   "cell_type": "code",
   "execution_count": 71,
   "metadata": {},
   "outputs": [],
   "source": [
    "from sklearn.tree import DecisionTreeRegressor\n",
    "from sklearn.svm import SVR\n",
    "from sklearn.neighbors import KNeighborsRegressor"
   ]
  },
  {
   "cell_type": "code",
   "execution_count": 78,
   "metadata": {},
   "outputs": [],
   "source": [
    "dtc=DecisionTreeRegressor()\n",
    "svr=SVR()\n",
    "svrl=SVR(kernel='linear')\n",
    "svrp=SVR(kernel='poly')\n",
    "kn=KNeighborsRegressor(n_neighbors=5)"
   ]
  },
  {
   "cell_type": "code",
   "execution_count": 73,
   "metadata": {},
   "outputs": [],
   "source": [
    "def fun(f):\n",
    "    f.fit(x_train,y_train)\n",
    "    pred=f.predict(x_test)\n",
    "    print('Taining Score:-',f.score(x_train,y_train)*100)\n",
    "    print('Mean Absolute Error',mean_absolute_error(y_test,pred))\n",
    "    print('Mean Squared Error',mean_squared_error(y_test,pred))\n",
    "    print('Root Mean Squared Erro',np.sqrt(mean_squared_error(y_test,pred)))\n",
    "    print('R2 Score',r2_score(y_test,pred)*100)"
   ]
  },
  {
   "cell_type": "code",
   "execution_count": 74,
   "metadata": {},
   "outputs": [
    {
     "name": "stdout",
     "output_type": "stream",
     "text": [
      "Taining Score:- 100.0\n",
      "Mean Absolute Error 0.17113373098237927\n",
      "Mean Squared Error 0.06070475133572697\n",
      "Root Mean Squared Erro 0.2463833422448177\n",
      "R2 Score 86.27914995342657\n"
     ]
    }
   ],
   "source": [
    "fun(dtc)"
   ]
  },
  {
   "cell_type": "code",
   "execution_count": 75,
   "metadata": {},
   "outputs": [
    {
     "name": "stdout",
     "output_type": "stream",
     "text": [
      "Taining Score:- 95.09368279461125\n",
      "Mean Absolute Error 0.09249141809949245\n",
      "Mean Squared Error 0.021179487691953068\n",
      "Root Mean Squared Erro 0.1455317411836781\n",
      "R2 Score 95.21288584023065\n"
     ]
    }
   ],
   "source": [
    "fun(svr)"
   ]
  },
  {
   "cell_type": "code",
   "execution_count": 76,
   "metadata": {},
   "outputs": [
    {
     "name": "stdout",
     "output_type": "stream",
     "text": [
      "Taining Score:- 86.12425724754102\n",
      "Mean Absolute Error 0.1849829218650387\n",
      "Mean Squared Error 0.0766841064353638\n",
      "Root Mean Squared Erro 0.27691895282801393\n",
      "R2 Score 82.66740078488944\n"
     ]
    }
   ],
   "source": [
    "fun(svrl)"
   ]
  },
  {
   "cell_type": "code",
   "execution_count": 77,
   "metadata": {},
   "outputs": [
    {
     "name": "stdout",
     "output_type": "stream",
     "text": [
      "Taining Score:- 81.20086368802349\n",
      "Mean Absolute Error 0.1967906333714503\n",
      "Mean Squared Error 0.06338222394464525\n",
      "Root Mean Squared Erro 0.2517582648983847\n",
      "R2 Score 85.67397162121331\n"
     ]
    }
   ],
   "source": [
    "fun(svrp)"
   ]
  },
  {
   "cell_type": "code",
   "execution_count": 79,
   "metadata": {},
   "outputs": [
    {
     "name": "stdout",
     "output_type": "stream",
     "text": [
      "Taining Score:- 91.91662071713871\n",
      "Mean Absolute Error 0.1082138863609953\n",
      "Mean Squared Error 0.01929191547284429\n",
      "Root Mean Squared Erro 0.13889533999686343\n",
      "R2 Score 95.63952617398698\n"
     ]
    }
   ],
   "source": [
    "fun(kn)"
   ]
  },
  {
   "cell_type": "markdown",
   "metadata": {},
   "source": [
    "# Ensemble Method"
   ]
  },
  {
   "cell_type": "code",
   "execution_count": 80,
   "metadata": {},
   "outputs": [],
   "source": [
    "from sklearn.ensemble import RandomForestRegressor"
   ]
  },
  {
   "cell_type": "code",
   "execution_count": 81,
   "metadata": {},
   "outputs": [],
   "source": [
    "rd=RandomForestRegressor()"
   ]
  },
  {
   "cell_type": "code",
   "execution_count": 82,
   "metadata": {},
   "outputs": [
    {
     "name": "stdout",
     "output_type": "stream",
     "text": [
      "Taining Score:- 99.60452454189688\n",
      "Mean Absolute Error 0.09792307830909412\n",
      "Mean Squared Error 0.015564827083765765\n",
      "Root Mean Squared Erro 0.12475907615787224\n",
      "R2 Score 96.48194492658261\n"
     ]
    }
   ],
   "source": [
    "fun(rd)"
   ]
  },
  {
   "cell_type": "code",
   "execution_count": 83,
   "metadata": {},
   "outputs": [],
   "source": [
    "from sklearn.ensemble import AdaBoostRegressor\n",
    "ad=AdaBoostRegressor()"
   ]
  },
  {
   "cell_type": "code",
   "execution_count": 84,
   "metadata": {},
   "outputs": [
    {
     "name": "stdout",
     "output_type": "stream",
     "text": [
      "Taining Score:- 97.38819499560466\n",
      "Mean Absolute Error 0.14896037400939974\n",
      "Mean Squared Error 0.032483858284080014\n",
      "Root Mean Squared Erro 0.18023278914803492\n",
      "R2 Score 92.657804559893\n"
     ]
    }
   ],
   "source": [
    "fun(ad)"
   ]
  },
  {
   "cell_type": "code",
   "execution_count": 85,
   "metadata": {},
   "outputs": [],
   "source": [
    "paramad={'n_estimators':[50,100,150,10,125,250,500],'learning_rate':[1,10,100,50,150,250,500,0.01],'random_state':[0,10,50,100,108]}"
   ]
  },
  {
   "cell_type": "code",
   "execution_count": 86,
   "metadata": {},
   "outputs": [],
   "source": [
    "from sklearn.model_selection import GridSearchCV"
   ]
  },
  {
   "cell_type": "code",
   "execution_count": 87,
   "metadata": {},
   "outputs": [
    {
     "data": {
      "text/plain": [
       "GridSearchCV(estimator=AdaBoostRegressor(),\n",
       "             param_grid={'learning_rate': [1, 10, 100, 50, 150, 250, 500, 0.01],\n",
       "                         'n_estimators': [50, 100, 150, 10, 125, 250, 500],\n",
       "                         'random_state': [0, 10, 50, 100, 108]})"
      ]
     },
     "execution_count": 87,
     "metadata": {},
     "output_type": "execute_result"
    }
   ],
   "source": [
    "gdad=GridSearchCV(ad,paramad)\n",
    "gdad.fit(x,y)"
   ]
  },
  {
   "cell_type": "code",
   "execution_count": 88,
   "metadata": {},
   "outputs": [
    {
     "name": "stdout",
     "output_type": "stream",
     "text": [
      "0.9463320937106564\n",
      "{'learning_rate': 1, 'n_estimators': 500, 'random_state': 0}\n"
     ]
    }
   ],
   "source": [
    "print(gdad.best_score_)\n",
    "print(gdad.best_params_)"
   ]
  },
  {
   "cell_type": "code",
   "execution_count": 89,
   "metadata": {},
   "outputs": [],
   "source": [
    "ad1=AdaBoostRegressor(n_estimators=500,learning_rate=1,random_state=0)"
   ]
  },
  {
   "cell_type": "code",
   "execution_count": 90,
   "metadata": {},
   "outputs": [
    {
     "data": {
      "text/plain": [
       "AdaBoostRegressor(learning_rate=1, n_estimators=500, random_state=0)"
      ]
     },
     "execution_count": 90,
     "metadata": {},
     "output_type": "execute_result"
    }
   ],
   "source": [
    "ad1"
   ]
  },
  {
   "cell_type": "code",
   "execution_count": 91,
   "metadata": {},
   "outputs": [
    {
     "name": "stdout",
     "output_type": "stream",
     "text": [
      "Taining Score:- 97.90256319057731\n",
      "Mean Absolute Error 0.12830461816222333\n",
      "Mean Squared Error 0.02962662995174816\n",
      "Root Mean Squared Erro 0.17212387966737258\n",
      "R2 Score 93.3036123530908\n"
     ]
    }
   ],
   "source": [
    "fun(ad1)"
   ]
  },
  {
   "cell_type": "markdown",
   "metadata": {},
   "source": [
    "After Applying Hyper Tuning (GridSearchCV)method score is improved in AdaBoostRegressor."
   ]
  },
  {
   "cell_type": "code",
   "execution_count": 92,
   "metadata": {},
   "outputs": [],
   "source": [
    "from sklearn.ensemble import GradientBoostingRegressor"
   ]
  },
  {
   "cell_type": "code",
   "execution_count": 94,
   "metadata": {},
   "outputs": [],
   "source": [
    "gd=GradientBoostingRegressor()"
   ]
  },
  {
   "cell_type": "code",
   "execution_count": 95,
   "metadata": {},
   "outputs": [
    {
     "name": "stdout",
     "output_type": "stream",
     "text": [
      "Taining Score:- 99.89025771324862\n",
      "Mean Absolute Error 0.09326743948953037\n",
      "Mean Squared Error 0.013229174287596079\n",
      "Root Mean Squared Erro 0.11501814764460468\n",
      "R2 Score 97.00986310550519\n"
     ]
    }
   ],
   "source": [
    "fun(gd)"
   ]
  },
  {
   "cell_type": "markdown",
   "metadata": {},
   "source": [
    "# Regurization & Hyper Tuning"
   ]
  },
  {
   "cell_type": "code",
   "execution_count": 96,
   "metadata": {},
   "outputs": [],
   "source": [
    "from sklearn.linear_model import Lasso,Ridge,ElasticNet\n",
    "from sklearn.model_selection import GridSearchCV"
   ]
  },
  {
   "cell_type": "code",
   "execution_count": 97,
   "metadata": {},
   "outputs": [],
   "source": [
    "ls=Lasso()"
   ]
  },
  {
   "cell_type": "code",
   "execution_count": 98,
   "metadata": {},
   "outputs": [],
   "source": [
    "param1={'normalize':['True','False'],'alpha':[1.0,0.1,0.001,0.0001,0.00001],'max_iter':[10,100,1000],'selection':['cyclic','random'],'copy_X':['True','False']}"
   ]
  },
  {
   "cell_type": "code",
   "execution_count": 99,
   "metadata": {},
   "outputs": [
    {
     "data": {
      "text/plain": [
       "GridSearchCV(estimator=Lasso(),\n",
       "             param_grid={'alpha': [1.0, 0.1, 0.001, 0.0001, 1e-05],\n",
       "                         'copy_X': ['True', 'False'],\n",
       "                         'max_iter': [10, 100, 1000],\n",
       "                         'normalize': ['True', 'False'],\n",
       "                         'selection': ['cyclic', 'random']})"
      ]
     },
     "execution_count": 99,
     "metadata": {},
     "output_type": "execute_result"
    }
   ],
   "source": [
    "gd=GridSearchCV(ls,param1)\n",
    "gd.fit(x,y)\n"
   ]
  },
  {
   "cell_type": "code",
   "execution_count": 100,
   "metadata": {},
   "outputs": [
    {
     "name": "stdout",
     "output_type": "stream",
     "text": [
      "0.8715131373592773\n",
      "{'alpha': 0.001, 'copy_X': 'False', 'max_iter': 100, 'normalize': 'True', 'selection': 'random'}\n"
     ]
    }
   ],
   "source": [
    "print(gd.best_score_)\n",
    "print(gd.best_params_)"
   ]
  },
  {
   "cell_type": "code",
   "execution_count": 101,
   "metadata": {},
   "outputs": [],
   "source": [
    "ls1=Lasso(alpha=0.001,copy_X=True,max_iter=10,normalize=True,selection='random')"
   ]
  },
  {
   "cell_type": "code",
   "execution_count": 102,
   "metadata": {},
   "outputs": [],
   "source": [
    "rd=Ridge()"
   ]
  },
  {
   "cell_type": "code",
   "execution_count": 103,
   "metadata": {},
   "outputs": [
    {
     "ename": "SyntaxError",
     "evalue": "EOL while scanning string literal (<ipython-input-103-013fb006fbbc>, line 1)",
     "output_type": "error",
     "traceback": [
      "\u001b[1;36m  File \u001b[1;32m\"<ipython-input-103-013fb006fbbc>\"\u001b[1;36m, line \u001b[1;32m1\u001b[0m\n\u001b[1;33m    param2={'alpha':[10,1,0.1,0.01,0.001,0.0001],'normalize':['True','False'],'copy_X':['Ture','False'],'max_iter':[10,100,1000],'solver':['auto','svd','cholesky','isqr','spa\u001b[0m\n\u001b[1;37m                                                                                                                                                                              ^\u001b[0m\n\u001b[1;31mSyntaxError\u001b[0m\u001b[1;31m:\u001b[0m EOL while scanning string literal\n"
     ]
    }
   ],
   "source": [
    "param2={'alpha':[10,1,0.1,0.01,0.001,0.0001],'normalize':['True','False'],'copy_X':['Ture','False'],'max_iter':[10,100,1000],'solver':['auto','svd','cholesky','isqr','spa"
   ]
  },
  {
   "cell_type": "code",
   "execution_count": 104,
   "metadata": {},
   "outputs": [
    {
     "ename": "NameError",
     "evalue": "name 'param2' is not defined",
     "output_type": "error",
     "traceback": [
      "\u001b[1;31m---------------------------------------------------------------------------\u001b[0m",
      "\u001b[1;31mNameError\u001b[0m                                 Traceback (most recent call last)",
      "\u001b[1;32m<ipython-input-104-e5c55d9e8e6e>\u001b[0m in \u001b[0;36m<module>\u001b[1;34m\u001b[0m\n\u001b[1;32m----> 1\u001b[1;33m \u001b[0mgd2\u001b[0m\u001b[1;33m=\u001b[0m\u001b[0mGridSearchCV\u001b[0m\u001b[1;33m(\u001b[0m\u001b[0mrd\u001b[0m\u001b[1;33m,\u001b[0m\u001b[0mparam2\u001b[0m\u001b[1;33m)\u001b[0m\u001b[1;33m\u001b[0m\u001b[1;33m\u001b[0m\u001b[0m\n\u001b[0m\u001b[0;32m      2\u001b[0m \u001b[0mgd2\u001b[0m\u001b[1;33m.\u001b[0m\u001b[0mfit\u001b[0m\u001b[1;33m(\u001b[0m\u001b[0mx\u001b[0m\u001b[1;33m,\u001b[0m\u001b[0my\u001b[0m\u001b[1;33m)\u001b[0m\u001b[1;33m\u001b[0m\u001b[1;33m\u001b[0m\u001b[0m\n",
      "\u001b[1;31mNameError\u001b[0m: name 'param2' is not defined"
     ]
    }
   ],
   "source": [
    "gd2=GridSearchCV(rd,param2)\n",
    "gd2.fit(x,y)\n"
   ]
  },
  {
   "cell_type": "code",
   "execution_count": 105,
   "metadata": {},
   "outputs": [
    {
     "ename": "NameError",
     "evalue": "name 'gd2' is not defined",
     "output_type": "error",
     "traceback": [
      "\u001b[1;31m---------------------------------------------------------------------------\u001b[0m",
      "\u001b[1;31mNameError\u001b[0m                                 Traceback (most recent call last)",
      "\u001b[1;32m<ipython-input-105-e2b3684c57f6>\u001b[0m in \u001b[0;36m<module>\u001b[1;34m\u001b[0m\n\u001b[1;32m----> 1\u001b[1;33m \u001b[0mprint\u001b[0m\u001b[1;33m(\u001b[0m\u001b[0mgd2\u001b[0m\u001b[1;33m.\u001b[0m\u001b[0mbest_score_\u001b[0m\u001b[1;33m)\u001b[0m\u001b[1;33m\u001b[0m\u001b[1;33m\u001b[0m\u001b[0m\n\u001b[0m\u001b[0;32m      2\u001b[0m \u001b[0mprint\u001b[0m\u001b[1;33m(\u001b[0m\u001b[0mgd2\u001b[0m\u001b[1;33m.\u001b[0m\u001b[0mbest_params_\u001b[0m\u001b[1;33m)\u001b[0m\u001b[1;33m\u001b[0m\u001b[1;33m\u001b[0m\u001b[0m\n",
      "\u001b[1;31mNameError\u001b[0m: name 'gd2' is not defined"
     ]
    }
   ],
   "source": [
    "print(gd2.best_score_)\n",
    "print(gd2.best_params_)"
   ]
  },
  {
   "cell_type": "code",
   "execution_count": 106,
   "metadata": {},
   "outputs": [],
   "source": [
    "rd1=Ridge(alpha=0.001,copy_X=False,max_iter=10,normalize=False,solver='sag')"
   ]
  },
  {
   "cell_type": "code",
   "execution_count": 107,
   "metadata": {},
   "outputs": [],
   "source": [
    "es=ElasticNet()"
   ]
  },
  {
   "cell_type": "code",
   "execution_count": 108,
   "metadata": {},
   "outputs": [],
   "source": [
    "param3={'alpha':[1,10,100,0.01,0.001,0.0001],'max_iter':[10,50,250,500,1000],'selection':['cyclic','random'],'normalize':['True','False']}"
   ]
  },
  {
   "cell_type": "code",
   "execution_count": 109,
   "metadata": {},
   "outputs": [
    {
     "data": {
      "text/plain": [
       "GridSearchCV(estimator=ElasticNet(),\n",
       "             param_grid={'alpha': [1, 10, 100, 0.01, 0.001, 0.0001],\n",
       "                         'max_iter': [10, 50, 250, 500, 1000],\n",
       "                         'normalize': ['True', 'False'],\n",
       "                         'selection': ['cyclic', 'random']})"
      ]
     },
     "execution_count": 109,
     "metadata": {},
     "output_type": "execute_result"
    }
   ],
   "source": [
    "gd3=GridSearchCV(es,param3)\n",
    "gd3.fit(x,y)"
   ]
  },
  {
   "cell_type": "code",
   "execution_count": 110,
   "metadata": {},
   "outputs": [
    {
     "name": "stdout",
     "output_type": "stream",
     "text": [
      "0.8698212744056499\n",
      "{'alpha': 0.0001, 'max_iter': 1000, 'normalize': 'False', 'selection': 'random'}\n"
     ]
    }
   ],
   "source": [
    "print(gd3.best_score_)\n",
    "print(gd3.best_params_)"
   ]
  },
  {
   "cell_type": "code",
   "execution_count": 111,
   "metadata": {},
   "outputs": [],
   "source": [
    "es1=ElasticNet(alpha=0.0001,max_iter=500,normalize=True,selection='random')"
   ]
  },
  {
   "cell_type": "code",
   "execution_count": 139,
   "metadata": {},
   "outputs": [
    {
     "name": "stdout",
     "output_type": "stream",
     "text": [
      "Taining Score:- 87.62029591792091\n",
      "Mean Absolute Error 0.17893769701456896\n",
      "Mean Squared Error 0.05531354750297336\n",
      "Root Mean Squared Erro 0.2351883234834871\n",
      "R2 Score 87.49770200630664\n"
     ]
    }
   ],
   "source": [
    "fun(es1)\n",
    "predes=es1.predict(x_test)"
   ]
  },
  {
   "cell_type": "code",
   "execution_count": 113,
   "metadata": {},
   "outputs": [
    {
     "name": "stdout",
     "output_type": "stream",
     "text": [
      "Taining Score:- 87.55395911609193\n",
      "Mean Absolute Error 0.1827574516928502\n",
      "Mean Squared Error 0.05623018631953018\n",
      "Root Mean Squared Erro 0.23712904992752404\n",
      "R2 Score 87.29051783254589\n"
     ]
    }
   ],
   "source": [
    "fun(ls1)"
   ]
  },
  {
   "cell_type": "code",
   "execution_count": 114,
   "metadata": {},
   "outputs": [
    {
     "name": "stdout",
     "output_type": "stream",
     "text": [
      "Taining Score:- 87.59382877420285\n",
      "Mean Absolute Error 0.18037731092485165\n",
      "Mean Squared Error 0.053324178516877055\n",
      "Root Mean Squared Erro 0.23092028606615975\n",
      "R2 Score 87.94735105263206\n"
     ]
    }
   ],
   "source": [
    "fun(rd1)"
   ]
  },
  {
   "cell_type": "code",
   "execution_count": 115,
   "metadata": {},
   "outputs": [],
   "source": [
    "from sklearn.model_selection import cross_val_score\n"
   ]
  },
  {
   "cell_type": "code",
   "execution_count": 116,
   "metadata": {},
   "outputs": [
    {
     "name": "stdout",
     "output_type": "stream",
     "text": [
      "CV Value 2\n",
      "Score 87.01277306239759\n",
      "CV Value 3\n",
      "Score 87.20153683694937\n",
      "CV Value 4\n",
      "Score 87.19666800703261\n",
      "CV Value 5\n",
      "Score 86.94817933814764\n",
      "CV Value 6\n",
      "Score 87.45635527576346\n",
      "CV Value 7\n",
      "Score 86.96217970872651\n",
      "CV Value 8\n",
      "Score 86.66261594427293\n",
      "CV Value 9\n",
      "Score 86.7123156033331\n",
      "CV Value 10\n",
      "Score 87.06475793182864\n"
     ]
    }
   ],
   "source": [
    "for i in range(2,11):\n",
    "    crs_score=cross_val_score(ln,x,y,cv=i)\n",
    "    score=crs_score.mean()\n",
    "    print('CV Value',i)\n",
    "    print('Score',score*100)"
   ]
  },
  {
   "cell_type": "code",
   "execution_count": 117,
   "metadata": {},
   "outputs": [
    {
     "name": "stdout",
     "output_type": "stream",
     "text": [
      "CV Value 2\n",
      "Score 92.32424060523827\n",
      "CV Value 3\n",
      "Score 93.07667480303941\n",
      "CV Value 4\n",
      "Score 94.08376260475282\n",
      "CV Value 5\n",
      "Score 94.37667800915645\n",
      "CV Value 6\n",
      "Score 94.4434895558361\n",
      "CV Value 7\n",
      "Score 94.10034194645763\n",
      "CV Value 8\n",
      "Score 94.13092019312563\n",
      "CV Value 9\n",
      "Score 94.15280468714771\n",
      "CV Value 10\n",
      "Score 94.77653683919975\n"
     ]
    }
   ],
   "source": [
    "for i in range(2,11):\n",
    "    crs_score=cross_val_score(svr,x,y,cv=i)\n",
    "    score=crs_score.mean()\n",
    "    print('CV Value',i)\n",
    "    print('Score',score*100)"
   ]
  },
  {
   "cell_type": "code",
   "execution_count": 118,
   "metadata": {},
   "outputs": [
    {
     "name": "stdout",
     "output_type": "stream",
     "text": [
      "CV Value 2\n",
      "Score 86.00235775826604\n",
      "CV Value 3\n",
      "Score 86.31325312795197\n",
      "CV Value 4\n",
      "Score 86.3580365353334\n",
      "CV Value 5\n",
      "Score 86.66844495486308\n",
      "CV Value 6\n",
      "Score 86.3627054809473\n",
      "CV Value 7\n",
      "Score 86.05513122740834\n",
      "CV Value 8\n",
      "Score 85.98120114629127\n",
      "CV Value 9\n",
      "Score 85.8006263819678\n",
      "CV Value 10\n",
      "Score 86.81747088772845\n"
     ]
    }
   ],
   "source": [
    "for i in range(2,11):\n",
    "    crs_score=cross_val_score(svrl,x,y,cv=i)\n",
    "    score=crs_score.mean()\n",
    "    print('CV Value',i)\n",
    "    print('Score',score*100)"
   ]
  },
  {
   "cell_type": "code",
   "execution_count": 119,
   "metadata": {},
   "outputs": [
    {
     "name": "stdout",
     "output_type": "stream",
     "text": [
      "CV Value 2\n",
      "Score 76.22404565493413\n",
      "CV Value 3\n",
      "Score 79.27798829457791\n",
      "CV Value 4\n",
      "Score 77.19255982204747\n",
      "CV Value 5\n",
      "Score 78.39908328223308\n",
      "CV Value 6\n",
      "Score 78.79857880081039\n",
      "CV Value 7\n",
      "Score 76.9462641804157\n",
      "CV Value 8\n",
      "Score 73.60773693789045\n",
      "CV Value 9\n",
      "Score 74.74769644527635\n",
      "CV Value 10\n",
      "Score 76.36756207661915\n"
     ]
    }
   ],
   "source": [
    "for i in range(2,11):\n",
    "    crs_score=cross_val_score(svrp,x,y,cv=i)\n",
    "    score=crs_score.mean()\n",
    "    print('CV Value',i)\n",
    "    print('Score',score*100)"
   ]
  },
  {
   "cell_type": "code",
   "execution_count": 121,
   "metadata": {},
   "outputs": [
    {
     "name": "stdout",
     "output_type": "stream",
     "text": [
      "CV Value 2\n",
      "Score 91.4176326315576\n",
      "CV Value 3\n",
      "Score 94.33071744532377\n",
      "CV Value 4\n",
      "Score 94.56567765600634\n",
      "CV Value 5\n",
      "Score 93.61507849220176\n",
      "CV Value 6\n",
      "Score 93.60549679045872\n",
      "CV Value 7\n",
      "Score 94.06888343586249\n",
      "CV Value 8\n",
      "Score 93.63782272268793\n",
      "CV Value 9\n",
      "Score 93.32385936391994\n",
      "CV Value 10\n",
      "Score 94.52818657215958\n"
     ]
    }
   ],
   "source": [
    "for i in range(2,11):\n",
    "    crs_score=cross_val_score(dtc,x,y,cv=i)\n",
    "    score=crs_score.mean()\n",
    "    print('CV Value',i)\n",
    "    print('Score',score*100)"
   ]
  },
  {
   "cell_type": "code",
   "execution_count": 122,
   "metadata": {},
   "outputs": [
    {
     "name": "stdout",
     "output_type": "stream",
     "text": [
      "CV Value 2\n",
      "Score 89.00398416399116\n",
      "CV Value 3\n",
      "Score 87.41707253014395\n",
      "CV Value 4\n",
      "Score 90.78748470632797\n",
      "CV Value 5\n",
      "Score 90.99382544984151\n",
      "CV Value 6\n",
      "Score 90.01453105370736\n",
      "CV Value 7\n",
      "Score 90.7712267774967\n",
      "CV Value 8\n",
      "Score 90.57128701300566\n",
      "CV Value 9\n",
      "Score 90.03355073886625\n",
      "CV Value 10\n",
      "Score 91.86946904135294\n"
     ]
    }
   ],
   "source": [
    "for i in range(2,11):\n",
    "    crs_score=cross_val_score(kn,x,y,cv=i)\n",
    "    score=crs_score.mean()\n",
    "    print('CV Value',i)\n",
    "    print('Score',score*100)\n"
   ]
  },
  {
   "cell_type": "code",
   "execution_count": 123,
   "metadata": {},
   "outputs": [
    {
     "name": "stdout",
     "output_type": "stream",
     "text": [
      "CV Value 2\n",
      "Score 87.00259880770165\n",
      "CV Value 3\n",
      "Score 87.2035946025164\n",
      "CV Value 4\n",
      "Score 87.20067669154756\n",
      "CV Value 5\n",
      "Score 86.96285524833236\n",
      "CV Value 6\n",
      "Score 87.45519338821701\n",
      "CV Value 7\n",
      "Score 86.96609068699041\n",
      "CV Value 8\n",
      "Score 86.6794985659034\n",
      "CV Value 9\n",
      "Score 86.7296489458147\n",
      "CV Value 10\n",
      "Score 87.08384126952538\n"
     ]
    }
   ],
   "source": [
    "for i in range(2,11):\n",
    "    crs_score=cross_val_score(rd,x,y,cv=i)\n",
    "    score=crs_score.mean()\n",
    "    print('CV Value',i)\n",
    "    print('Score',score*100)"
   ]
  },
  {
   "cell_type": "code",
   "execution_count": 124,
   "metadata": {},
   "outputs": [
    {
     "name": "stdout",
     "output_type": "stream",
     "text": [
      "CV Value 2\n",
      "Score 93.92388737247049\n",
      "CV Value 3\n",
      "Score 94.53819898305723\n",
      "CV Value 4\n",
      "Score 94.4595191115162\n",
      "CV Value 5\n",
      "Score 93.52106089469902\n",
      "CV Value 6\n",
      "Score 94.20202416068636\n",
      "CV Value 7\n",
      "Score 93.4809287995044\n",
      "CV Value 8\n",
      "Score 94.05151972777948\n",
      "CV Value 9\n",
      "Score 93.78445746083077\n",
      "CV Value 10\n",
      "Score 94.36948639308854\n"
     ]
    }
   ],
   "source": [
    "for i in range(2,11):\n",
    "    crs_score=cross_val_score(ad,x,y,cv=i)\n",
    "    score=crs_score.mean()\n",
    "    print('CV Value',i)\n",
    "    print('Score',score*100)"
   ]
  },
  {
   "cell_type": "code",
   "execution_count": 125,
   "metadata": {},
   "outputs": [
    {
     "name": "stdout",
     "output_type": "stream",
     "text": [
      "CV Value 2\n",
      "Score 87.10210474307655\n",
      "CV Value 3\n",
      "Score 87.21821328498186\n",
      "CV Value 4\n",
      "Score 87.18456246260007\n",
      "CV Value 5\n",
      "Score 87.03496455971047\n",
      "CV Value 6\n",
      "Score 87.40218656821322\n",
      "CV Value 7\n",
      "Score 86.90748446461443\n",
      "CV Value 8\n",
      "Score 86.79198785562996\n",
      "CV Value 9\n",
      "Score 86.77904821611713\n",
      "CV Value 10\n",
      "Score 87.19855391475771\n"
     ]
    }
   ],
   "source": [
    "for i in range(2,11):\n",
    "    crs_score=cross_val_score(gd,x,y,cv=i)\n",
    "    score=crs_score.mean()\n",
    "    print('CV Value',i)\n",
    "    print('Score',score*100)"
   ]
  },
  {
   "cell_type": "code",
   "execution_count": 126,
   "metadata": {},
   "outputs": [
    {
     "name": "stdout",
     "output_type": "stream",
     "text": [
      "CV Value 2\n",
      "Score 87.10278929838043\n",
      "CV Value 3\n",
      "Score 87.24946401982436\n",
      "CV Value 4\n",
      "Score 87.23654372393963\n",
      "CV Value 5\n",
      "Score 87.15043255350288\n",
      "CV Value 6\n",
      "Score 87.43480863260194\n",
      "CV Value 7\n",
      "Score 87.01716845542623\n",
      "CV Value 8\n",
      "Score 86.786201556267\n",
      "CV Value 9\n",
      "Score 86.76712369475223\n",
      "CV Value 10\n",
      "Score 87.14245112654375\n"
     ]
    }
   ],
   "source": [
    "for i in range(2,11):\n",
    "    crs_score=cross_val_score(ls1,x,y,cv=i)\n",
    "    score=crs_score.mean()\n",
    "    print('CV Value',i)\n",
    "    print('Score',score*100)"
   ]
  },
  {
   "cell_type": "code",
   "execution_count": 127,
   "metadata": {},
   "outputs": [
    {
     "name": "stdout",
     "output_type": "stream",
     "text": [
      "CV Value 2\n",
      "Score 86.62342149044302\n",
      "CV Value 3\n",
      "Score 87.18282586501402\n",
      "CV Value 4\n",
      "Score 86.69697161927085\n",
      "CV Value 5\n",
      "Score 86.92563314549494\n",
      "CV Value 6\n",
      "Score 87.3676593802572\n",
      "CV Value 7\n",
      "Score 86.37317395978556\n",
      "CV Value 8\n",
      "Score 86.57743278605669\n",
      "CV Value 9\n",
      "Score 86.1757872459908\n",
      "CV Value 10\n",
      "Score 85.98717551812642\n"
     ]
    }
   ],
   "source": [
    "for i in range(2,11):\n",
    "    crs_score=cross_val_score(rd1,x,y,cv=i)\n",
    "    score=crs_score.mean()\n",
    "    print('CV Value',i)\n",
    "    print('Score',score*100)"
   ]
  },
  {
   "cell_type": "code",
   "execution_count": 128,
   "metadata": {},
   "outputs": [
    {
     "name": "stdout",
     "output_type": "stream",
     "text": [
      "CV Value 2\n",
      "Score 87.01839203452361\n",
      "CV Value 3\n",
      "Score 87.20942534703235\n",
      "CV Value 4\n",
      "Score 87.20816581407709\n",
      "CV Value 5\n",
      "Score 86.9805916333789\n",
      "CV Value 6\n",
      "Score 87.45698930058312\n",
      "CV Value 7\n",
      "Score 86.97033476515986\n",
      "CV Value 8\n",
      "Score 86.69304741568976\n",
      "CV Value 9\n",
      "Score 86.74305362909334\n",
      "CV Value 10\n",
      "Score 87.10026702921479\n"
     ]
    }
   ],
   "source": [
    "for i in range(2,11):\n",
    "    crs_score=cross_val_score(es1,x,y,cv=i)\n",
    "    score=crs_score.mean()\n",
    "    print('CV Value',i)\n",
    "    print('Score',score*100)"
   ]
  },
  {
   "cell_type": "code",
   "execution_count": 129,
   "metadata": {},
   "outputs": [],
   "source": [
    "df=pd.DataFrame()"
   ]
  },
  {
   "cell_type": "code",
   "execution_count": 130,
   "metadata": {},
   "outputs": [],
   "source": [
    "df['Model Name']=['DTC','SVR','SVRL','SVRP','KNN','RD','AD','GD','LS','RID','ES','LN']\n",
    "df['RMSE']=[0.14,0.14,0.27,0.25,0.13,0.12,0.17,0.11,0.23,0.23,0.23,0.23]\n",
    "df['R2_Score']=[95.21,95.21,82.66,85.67,95.63,96.46,93.30,97.00,87.29,87.46,87.49,87.63]\n",
    "df['CV Score']=[94.87,94.77,86.81,79.27,91.86,87.45,94.79,87.21,87.43,87.38,87.45,87.20]\n",
    "df['Differance']=df['R2_Score']-df['CV Score']"
   ]
  },
  {
   "cell_type": "code",
   "execution_count": 131,
   "metadata": {},
   "outputs": [
    {
     "data": {
      "text/html": [
       "<div>\n",
       "<style scoped>\n",
       "    .dataframe tbody tr th:only-of-type {\n",
       "        vertical-align: middle;\n",
       "    }\n",
       "\n",
       "    .dataframe tbody tr th {\n",
       "        vertical-align: top;\n",
       "    }\n",
       "\n",
       "    .dataframe thead th {\n",
       "        text-align: right;\n",
       "    }\n",
       "</style>\n",
       "<table border=\"1\" class=\"dataframe\">\n",
       "  <thead>\n",
       "    <tr style=\"text-align: right;\">\n",
       "      <th></th>\n",
       "      <th>Model Name</th>\n",
       "      <th>RMSE</th>\n",
       "      <th>R2_Score</th>\n",
       "      <th>CV Score</th>\n",
       "      <th>Differance</th>\n",
       "    </tr>\n",
       "  </thead>\n",
       "  <tbody>\n",
       "    <tr>\n",
       "      <th>0</th>\n",
       "      <td>DTC</td>\n",
       "      <td>0.14</td>\n",
       "      <td>95.21</td>\n",
       "      <td>94.87</td>\n",
       "      <td>0.34</td>\n",
       "    </tr>\n",
       "    <tr>\n",
       "      <th>1</th>\n",
       "      <td>SVR</td>\n",
       "      <td>0.14</td>\n",
       "      <td>95.21</td>\n",
       "      <td>94.77</td>\n",
       "      <td>0.44</td>\n",
       "    </tr>\n",
       "    <tr>\n",
       "      <th>2</th>\n",
       "      <td>SVRL</td>\n",
       "      <td>0.27</td>\n",
       "      <td>82.66</td>\n",
       "      <td>86.81</td>\n",
       "      <td>-4.15</td>\n",
       "    </tr>\n",
       "    <tr>\n",
       "      <th>3</th>\n",
       "      <td>SVRP</td>\n",
       "      <td>0.25</td>\n",
       "      <td>85.67</td>\n",
       "      <td>79.27</td>\n",
       "      <td>6.40</td>\n",
       "    </tr>\n",
       "    <tr>\n",
       "      <th>4</th>\n",
       "      <td>KNN</td>\n",
       "      <td>0.13</td>\n",
       "      <td>95.63</td>\n",
       "      <td>91.86</td>\n",
       "      <td>3.77</td>\n",
       "    </tr>\n",
       "    <tr>\n",
       "      <th>5</th>\n",
       "      <td>RD</td>\n",
       "      <td>0.12</td>\n",
       "      <td>96.46</td>\n",
       "      <td>87.45</td>\n",
       "      <td>9.01</td>\n",
       "    </tr>\n",
       "    <tr>\n",
       "      <th>6</th>\n",
       "      <td>AD</td>\n",
       "      <td>0.17</td>\n",
       "      <td>93.30</td>\n",
       "      <td>94.79</td>\n",
       "      <td>-1.49</td>\n",
       "    </tr>\n",
       "    <tr>\n",
       "      <th>7</th>\n",
       "      <td>GD</td>\n",
       "      <td>0.11</td>\n",
       "      <td>97.00</td>\n",
       "      <td>87.21</td>\n",
       "      <td>9.79</td>\n",
       "    </tr>\n",
       "    <tr>\n",
       "      <th>8</th>\n",
       "      <td>LS</td>\n",
       "      <td>0.23</td>\n",
       "      <td>87.29</td>\n",
       "      <td>87.43</td>\n",
       "      <td>-0.14</td>\n",
       "    </tr>\n",
       "    <tr>\n",
       "      <th>9</th>\n",
       "      <td>RID</td>\n",
       "      <td>0.23</td>\n",
       "      <td>87.46</td>\n",
       "      <td>87.38</td>\n",
       "      <td>0.08</td>\n",
       "    </tr>\n",
       "    <tr>\n",
       "      <th>10</th>\n",
       "      <td>ES</td>\n",
       "      <td>0.23</td>\n",
       "      <td>87.49</td>\n",
       "      <td>87.45</td>\n",
       "      <td>0.04</td>\n",
       "    </tr>\n",
       "    <tr>\n",
       "      <th>11</th>\n",
       "      <td>LN</td>\n",
       "      <td>0.23</td>\n",
       "      <td>87.63</td>\n",
       "      <td>87.20</td>\n",
       "      <td>0.43</td>\n",
       "    </tr>\n",
       "  </tbody>\n",
       "</table>\n",
       "</div>"
      ],
      "text/plain": [
       "   Model Name  RMSE  R2_Score  CV Score  Differance\n",
       "0         DTC  0.14     95.21     94.87        0.34\n",
       "1         SVR  0.14     95.21     94.77        0.44\n",
       "2        SVRL  0.27     82.66     86.81       -4.15\n",
       "3        SVRP  0.25     85.67     79.27        6.40\n",
       "4         KNN  0.13     95.63     91.86        3.77\n",
       "5          RD  0.12     96.46     87.45        9.01\n",
       "6          AD  0.17     93.30     94.79       -1.49\n",
       "7          GD  0.11     97.00     87.21        9.79\n",
       "8          LS  0.23     87.29     87.43       -0.14\n",
       "9         RID  0.23     87.46     87.38        0.08\n",
       "10         ES  0.23     87.49     87.45        0.04\n",
       "11         LN  0.23     87.63     87.20        0.43"
      ]
     },
     "execution_count": 131,
     "metadata": {},
     "output_type": "execute_result"
    }
   ],
   "source": [
    "df"
   ]
  },
  {
   "cell_type": "markdown",
   "metadata": {},
   "source": [
    "# Model Saving"
   ]
  },
  {
   "cell_type": "code",
   "execution_count": 132,
   "metadata": {},
   "outputs": [],
   "source": [
    "import pickle\n",
    "filename='Advertising_Sales_chanel_prediction.pkl'\n",
    "pickle.dump(es1,open(filename,'wb'))"
   ]
  },
  {
   "cell_type": "code",
   "execution_count": 140,
   "metadata": {},
   "outputs": [
    {
     "name": "stdout",
     "output_type": "stream",
     "text": [
      "       Actual   Predict\n",
      "164  3.449638  3.283929\n",
      "59   4.289522  4.207788\n",
      "172  2.756810  2.823131\n",
      "78   2.302173  2.960252\n",
      "84   4.658326  4.557203\n",
      "132  2.387467  2.906214\n",
      "151  3.405877  3.185393\n",
      "114  3.820995  3.818296\n",
      "19   3.820995  3.695574\n",
      "131  3.563706  3.936878\n",
      "63   3.741657  3.548024\n",
      "116  3.492850  3.424550\n",
      "0    4.701064  4.550825\n",
      "115  3.549648  3.530155\n",
      "112  3.754997  3.654208\n",
      "27   3.987480  4.097129\n",
      "147  5.039841  4.884565\n",
      "38   3.178050  3.131979\n",
      "195  2.756810  2.549869\n",
      "196  3.114482  2.916048\n",
      "2    3.049590  3.437395\n",
      "37   3.834058  3.862840\n",
      "23   3.937004  4.031437\n",
      "92   4.404543  4.370427\n",
      "64   4.242641  4.045540\n",
      "88   3.591657  3.395354\n",
      "4    3.591657  3.611570\n",
      "199  3.660601  3.847792\n",
      "161  3.646917  3.612499\n",
      "53   4.604346  4.453440\n",
      "67   3.660601  3.419417\n",
      "141  4.381780  4.273738\n",
      "56   2.345208  2.948488\n",
      "166  2.828427  3.226333\n",
      "194  4.159327  3.974089\n",
      "20   4.242641  4.236513\n",
      "34   3.082207  2.842393\n",
      "139  4.549725  4.377981\n",
      "12   3.033150  3.223203\n",
      "86   3.464102  3.343264\n"
     ]
    },
    {
     "data": {
      "text/plain": [
       "Text(0.5, 1.0, 'Regressor Line')"
      ]
     },
     "execution_count": 140,
     "metadata": {},
     "output_type": "execute_result"
    },
    {
     "data": {
      "image/png": "[encoded data removed]",
      "text/plain": [
       "<Figure size 432x288 with 1 Axes>"
      ]
     },
     "metadata": {
      "needs_background": "light"
     },
     "output_type": "display_data"
    }
   ],
   "source": [
    "res=pd.DataFrame()\n",
    "res['Actual']=y_test\n",
    "res['Predict']=predes\n",
    "\n",
    "res\n",
    "\n",
    "print(res)\n",
    "sns.regplot(y_test,predes)\n",
    "plt.title('Regressor Line')"
   ]
  },
  {
   "cell_type": "code",
   "execution_count": null,
   "metadata": {},
   "outputs": [],
   "source": []
  },
  {
   "cell_type": "code",
   "execution_count": null,
   "metadata": {},
   "outputs": [],
   "source": []
  }
 ],
 "metadata": {
  "kernelspec": {
   "display_name": "Python 3",
   "language": "python",
   "name": "python3"
  },
  "language_info": {
   "codemirror_mode": {
    "name": "ipython",
    "version": 3
   },
   "file_extension": ".py",
   "mimetype": "text/x-python",
   "name": "python",
   "nbconvert_exporter": "python",
   "pygments_lexer": "ipython3",
   "version": "3.8.5"
  }
 },
 "nbformat": 4,
 "nbformat_minor": 4
}
